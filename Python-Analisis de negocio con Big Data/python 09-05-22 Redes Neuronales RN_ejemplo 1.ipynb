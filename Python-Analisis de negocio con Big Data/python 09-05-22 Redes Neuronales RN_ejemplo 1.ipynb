{
 "cells": [
  {
   "cell_type": "code",
   "execution_count": 1,
   "id": "0741215a",
   "metadata": {},
   "outputs": [],
   "source": [
    "# Aunque no utilizaremos una biblioteca de redes neuronales,\n",
    "# importaremos cuatro métodos de la librería NumPy de Python, estas son:\n",
    "    # exp: la función exponencial\n",
    "    # array: permite crear matrices\n",
    "    # dot: multiplica matrices\n",
    "    # random: proporciona números aleatorios"
   ]
  },
  {
   "cell_type": "code",
   "execution_count": 9,
   "id": "bf3f831e",
   "metadata": {},
   "outputs": [],
   "source": [
    "import numpy as np\n",
    "from numpy import exp,array,random,dot\n",
    "\n",
    "# Se puede utilizar el método array() para representar el set de entrenamiento\n",
    "# La función «.T», transpone la matriz de horizontal a vertical.\n",
    "\n",
    "trainingSetInputs=array([[0,0,1],[1,1,1],[1,0,1],[0,1,1]])\n",
    "trainingSetOutputs=array([[0,1,1,0]]).T\n",
    "\n",
    "class NeuralNetwork():\n",
    "    def __init__(self):\n",
    "        # \"seed\" el generador de números aleatorios, con una raíz a fin de generar \n",
    "        # los mismos números aleatorios en cada proceso.\n",
    "        random.seed(1)\n",
    "        # Modelamos una sola neurona, con 3 conexiones de entrada y una conexión de salida\n",
    "        # Asignamos los pesos aleatorios a una matriz de 3x1, con valores en el rango de -1 a 1\n",
    "        # y significa 0 \n",
    "        self.synaptic_weights=2*random.random((3,1))-1\n",
    "    # La función Sigmoid, que describe una curva en forma de S\n",
    "    # Se pasan la suma ponderada de las entradas a través de esta función para \n",
    "    # normalizarlos entre 0 y 1.\n",
    "    def __sigmoid(self,x):\n",
    "        return 1/(1+exp(-x))\n",
    "        \n",
    "    def predict(self,inputs):\n",
    "        return self.__sigmoid(dot(inputs,self.synaptic_weights))\n",
    "    # La derivada de la función Sigmoid.\n",
    "    # Este es el gradiente de la función Sigmoid.\n",
    "    # Indica la confianza que tenemos en el peso existente.\n",
    "    def __sigmoid_derivative(self,x):\n",
    "        return x*(1-x)\n",
    "        \n",
    "    \n",
    "    # Entrenamos a la red neuronal a través de un proceso de prueba y error\n",
    "    # Se realiza un ajuste de los pesos sinápticos cada vez.\n",
    "    def train(self,trainingSetInputs,trainingSetOutputs,numberOfIterations):\n",
    "        for iteration in range(numberOfIterations):\n",
    "            # Pasar el conjunto de entrenamiento a través de nuestra red neuronal (una sola neurona)\n",
    "            output=self.predict(trainingSetInputs)\n",
    "            \n",
    "            # Calcular el error(La diferencia entre el resultado deseado y el resultado obtenido).\n",
    "            error=trainingSetOutputs-output\n",
    "            # Multiplica el error por la entrada y nuevamente por el gradiente de la curva Sigmoid\n",
    "            # Esto significa que los pesos menos confiables se están ajustando más\n",
    "            # Esto significa que las entradas que son cero, no causan cambios en los pesos.\n",
    "            adjustment=dot(trainingSetInputs.T,error*self.__sigmoid_derivative(output))\n",
    "            # Ajuste de los pesos\n",
    "            self.synaptic_weights+=adjustment\n",
    "    # La red neuronal piensa. \n",
    "    def think(self,inputs):\n",
    "        # Pasar las entradas a través de nuestra red neuronal (una neurona)\n",
    "        return self.__sigmoid(dot(inputs,self.synaptic_weights))"
   ]
  },
  {
   "cell_type": "code",
   "execution_count": 10,
   "id": "92d0f82e",
   "metadata": {},
   "outputs": [
    {
     "name": "stdout",
     "output_type": "stream",
     "text": [
      "random starting synaptic weights\n",
      "[[-0.16595599]\n",
      " [ 0.44064899]\n",
      " [-0.99977125]]\n",
      "new wheights\n",
      "[[ 9.67299303]\n",
      " [-0.2078435 ]\n",
      " [-4.62963669]]\n",
      "Considering new situation [1, 0, 0] -> ?: \n",
      "[0.99358931]\n"
     ]
    }
   ],
   "source": [
    "if __name__=='__main__':\n",
    "    #Iniciar una red neuronal de una neurona\n",
    "    neuralNetwork=NeuralNetwork()\n",
    "    \n",
    "    print('random starting synaptic weights')\n",
    "    print(neuralNetwork.synaptic_weights)\n",
    "    # El conjunto de pruebas. Tenemos cuatro ejemplos, cada uno consiste en 3 valores de entrada y un valor de salida.\n",
    "    trainingSetInputs=array([[0,0,1],[1,1,1],[1,0,1],[0,1,1]])\n",
    "    trainingSetOutputs=array([[0,1,1,0]]).T\n",
    "    \n",
    "    # Entrenar la red neuronal utilizando el conjunto de entrenamiento.\n",
    "    # Realizar 10000 veces y realizar un ajuste más pequeño cada vez.\n",
    "    neuralNetwork.train(trainingSetInputs,trainingSetOutputs,10000)\n",
    "    \n",
    "    print('new wheights')\n",
    "    print(neuralNetwork.synaptic_weights)\n",
    "    \n",
    "    # Prueba la red neuronal con una nueva situación\n",
    "    print(\"Considering new situation [1, 0, 0] -> ?: \")\n",
    "    print(neuralNetwork.think(array([1,0,1])))\n",
    "    \n",
    "    "
   ]
  },
  {
   "cell_type": "code",
   "execution_count": null,
   "id": "715d424d",
   "metadata": {},
   "outputs": [],
   "source": []
  }
 ],
 "metadata": {
  "kernelspec": {
   "display_name": "Python 3 (ipykernel)",
   "language": "python",
   "name": "python3"
  },
  "language_info": {
   "codemirror_mode": {
    "name": "ipython",
    "version": 3
   },
   "file_extension": ".py",
   "mimetype": "text/x-python",
   "name": "python",
   "nbconvert_exporter": "python",
   "pygments_lexer": "ipython3",
   "version": "3.9.7"
  }
 },
 "nbformat": 4,
 "nbformat_minor": 5
}
