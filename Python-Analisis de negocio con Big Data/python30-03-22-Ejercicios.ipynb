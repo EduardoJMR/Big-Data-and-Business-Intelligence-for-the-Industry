{
 "cells": [
  {
   "cell_type": "code",
   "execution_count": 2,
   "id": "19133be4",
   "metadata": {},
   "outputs": [
    {
     "name": "stdout",
     "output_type": "stream",
     "text": [
      "Introduce una palabra: SELECCION\n",
      "SELECCION\n",
      "SELECCION\n",
      "SELECCION\n",
      "SELECCION\n",
      "SELECCION\n",
      "SELECCION\n",
      "SELECCION\n",
      "SELECCION\n",
      "SELECCION\n",
      "SELECCION\n"
     ]
    }
   ],
   "source": [
    "#Escribir un programa que pida al usuario una palabra y la muestre por pantalla 10 veces.\n",
    "word= input(\"Introduce una palabra: \")\n",
    "for i in range(10):\n",
    "    print(word)"
   ]
  },
  {
   "cell_type": "code",
   "execution_count": 3,
   "id": "9d185224",
   "metadata": {},
   "outputs": [
    {
     "name": "stdout",
     "output_type": "stream",
     "text": [
      "Cuantos años tienes? 4\n",
      "Has cumplido 1 años\n",
      "Has cumplido 2 años\n",
      "Has cumplido 3 años\n",
      "Has cumplido 4 años\n"
     ]
    }
   ],
   "source": [
    "#Escribir un programa que pregunte al usuario su edad y muestre por pantalla todos los años \n",
    "#que ha cumplido (desde 1 hasta su edad).\n",
    "age= int(input(\"Cuantos años tienes? \"))\n",
    "for i in range(age):\n",
    "    print(\"Has cumplido \" + str(i+1) + \" años\")"
   ]
  },
  {
   "cell_type": "code",
   "execution_count": 4,
   "id": "41e8bf07",
   "metadata": {},
   "outputs": [
    {
     "name": "stdout",
     "output_type": "stream",
     "text": [
      "Introduce un número entero positivo: 15\n",
      "1, 3, 5, 7, 9, 11, 13, 15, "
     ]
    }
   ],
   "source": [
    "#Escribir un programa que pida al usuario un número entero positivo y muestre por pantalla\n",
    "#todos los números impares desde 1 hasta ese número separados por comas.\n",
    "n= int(input(\"Introduce un número entero positivo: \"))\n",
    "for i in range(1, n+1, 2):\n",
    "    print(i,end=\", \")"
   ]
  },
  {
   "cell_type": "code",
   "execution_count": 5,
   "id": "0ffc1d50",
   "metadata": {},
   "outputs": [
    {
     "name": "stdout",
     "output_type": "stream",
     "text": [
      "Introduce un número entero positivo: 8\n",
      "8, 7, 6, 5, 4, 3, 2, 1, 0, "
     ]
    }
   ],
   "source": [
    "#Escribir un programa que pida al usuario un número entero positivo y muestre por pantalla la\n",
    "#cuenta atrás desde ese número hasta cero separados por comas.\n",
    "n=int(input(\"Introduce un número entero positivo: \"))\n",
    "for i in range(n,-1,-1):\n",
    "    print(i,end=\", \")\n"
   ]
  },
  {
   "cell_type": "code",
   "execution_count": 12,
   "id": "910876ca",
   "metadata": {},
   "outputs": [
    {
     "name": "stdout",
     "output_type": "stream",
     "text": [
      "Cantidad a invertir?: 2000\n",
      "Interes porcentual anual?: 10\n",
      "Años?: 4\n",
      "Capital tras 1 años: 2200.0\n",
      "Capital tras 2 años: 2420.0\n",
      "Capital tras 3 años: 2662.0\n",
      "Capital tras 4 años: 2928.2\n"
     ]
    }
   ],
   "source": [
    "#Escribir un programa que pregunte al usuario una cantidad a invertir, el interés anual y el\n",
    "#número de años, y muestre por pantalla el capital obtenido en la inversión cada año que dura la inversión.\n",
    "amount= float(input(\"Cantidad a invertir?: \"))\n",
    "interest=float(input(\"Interes porcentual anual?: \"))\n",
    "years= int(input(\"Años?: \"))\n",
    "for i in range(years):\n",
    "    amount*=1 + interest/100\n",
    "    print(\"Capital tras \" + str(i+1) + \" años: \" + str(round(amount, 2)))\n",
    "    "
   ]
  },
  {
   "cell_type": "code",
   "execution_count": 16,
   "id": "b3f56983",
   "metadata": {},
   "outputs": [
    {
     "name": "stdout",
     "output_type": "stream",
     "text": [
      "Introduce la altura del triángulo (entero positivo): 5\n",
      "*\n",
      "**\n",
      "***\n",
      "****\n",
      "*****\n",
      "Introduce la altura del triángulo (entero positivo): 4\n",
      "*\n",
      "**\n",
      "***\n",
      "****\n"
     ]
    }
   ],
   "source": [
    "#Escribir un programa que pida al usuario un número entero y muestre por pantalla un triángulo\n",
    "#rectángulo formado por asteriscos, de altura el número introducido.\n",
    "#solucion 1\n",
    "n = int(input(\"Introduce la altura del triángulo (entero positivo): \"))\n",
    "for i in range(n):\n",
    "    for j in range(i+1):\n",
    "        print(\"*\", end=\"\")\n",
    "    print(\"\")\n",
    "#solucion 2\n",
    "n = int(input(\"Introduce la altura del triángulo (entero positivo): \"))\n",
    "for i in range(n):\n",
    "    print(\"*\"*(i+1))"
   ]
  },
  {
   "cell_type": "code",
   "execution_count": 17,
   "id": "cdba3986",
   "metadata": {},
   "outputs": [
    {
     "name": "stdout",
     "output_type": "stream",
     "text": [
      "1\t2\t3\t4\t5\t6\t7\t8\t9\t10\t\n",
      "2\t4\t6\t8\t10\t12\t14\t16\t18\t20\t\n",
      "3\t6\t9\t12\t15\t18\t21\t24\t27\t30\t\n",
      "4\t8\t12\t16\t20\t24\t28\t32\t36\t40\t\n",
      "5\t10\t15\t20\t25\t30\t35\t40\t45\t50\t\n",
      "6\t12\t18\t24\t30\t36\t42\t48\t54\t60\t\n",
      "7\t14\t21\t28\t35\t42\t49\t56\t63\t70\t\n",
      "8\t16\t24\t32\t40\t48\t56\t64\t72\t80\t\n",
      "9\t18\t27\t36\t45\t54\t63\t72\t81\t90\t\n",
      "10\t20\t30\t40\t50\t60\t70\t80\t90\t100\t\n"
     ]
    }
   ],
   "source": [
    "#Escribir un programa que muestre por pantalla la tabla de multiplicar del 1 al 10:\n",
    "for i in range(1, 11):\n",
    "    for j in range(1, 11):\n",
    "        print(i*j, end=\"\\t\")\n",
    "    print(\"\")"
   ]
  },
  {
   "cell_type": "code",
   "execution_count": 19,
   "id": "924e2308",
   "metadata": {},
   "outputs": [
    {
     "name": "stdout",
     "output_type": "stream",
     "text": [
      "Introduce la altura del triángulo (entero positivo): 5\n",
      "1 \n",
      "3 1 \n",
      "5 3 1 \n"
     ]
    }
   ],
   "source": [
    "#Escribir un programa que pida al usuario un número entero y muestre por pantalla un triángulo\n",
    "#rectángulo que forma el ángulo recto con los impares desde uno hasta el impar más próximo al\n",
    "#número entero seleccionado en número de filas y del impar correspondiente contando impares\n",
    "#hacia atrás hasta uno en cada una de las filas. Como el ejemplo adjunto (introducir un entero\n",
    "#mayor que 5 para ver mejor el efecto):\n",
    "#1\n",
    "#3 1\n",
    "#5 3 1\n",
    "n = int(input(\"Introduce la altura del triángulo (entero positivo): \"))\n",
    "for i in range(1, n+1, 2):\n",
    "    for j in range(i, 0, -2):\n",
    "        print(j, end=\" \")\n",
    "    print(\"\")"
   ]
  },
  {
   "cell_type": "code",
   "execution_count": 21,
   "id": "ec30588a",
   "metadata": {},
   "outputs": [
    {
     "name": "stdout",
     "output_type": "stream",
     "text": [
      "Introduce la contraseña: contrSEÑA\n",
      "Introduce la contraseña: 4555\n",
      "Introduce la contraseña: contraseña\n",
      "Contraseña correcta\n"
     ]
    }
   ],
   "source": [
    "#Escribir un programa que almacene la cadena de caracteres contraseña en una variable,\n",
    "#pregunte al usuario por la contraseña hasta que introduzca la contraseña correcta.\n",
    "key = \"contraseña\"\n",
    "password =\"\"\n",
    "while password != key:\n",
    "    password = input(\"Introduce la contraseña: \")\n",
    "print(\"Contraseña correcta\")"
   ]
  },
  {
   "cell_type": "code",
   "execution_count": 23,
   "id": "55ea4079",
   "metadata": {},
   "outputs": [
    {
     "name": "stdout",
     "output_type": "stream",
     "text": [
      "Introduce un número entero positivo mayor que 2: 55\n",
      "55 no es primo\n",
      "Introduce un número entero positivo mayor que 2: 3\n",
      "3 es primo\n"
     ]
    }
   ],
   "source": [
    "#Escribir un programa que pida al usuario un número entero y muestre por pantalla si es un\n",
    "#número primo o no.\n",
    "#solucion 1\n",
    "n = int(input(\"Introduce un número entero positivo mayor que 2: \"))\n",
    "i = 2\n",
    "while n % i != 0:\n",
    "    i += 1\n",
    "if i == n:\n",
    "    print(str(n) + \" es primo\")\n",
    "else:\n",
    "    print(str(n) + \" no es primo\")\n",
    "#solucion 2\n",
    "n = int(input(\"Introduce un número entero positivo mayor que 2: \"))\n",
    "for i in range(2, n):\n",
    "    if n % i == 0:\n",
    "        break\n",
    "if (i + 1) == n:\n",
    "    print(str(n) + \" es primo\")\n",
    "else:\n",
    "    print(str(n) + \" no es primo\")    "
   ]
  },
  {
   "cell_type": "code",
   "execution_count": null,
   "id": "0c34d3aa",
   "metadata": {},
   "outputs": [],
   "source": []
  }
 ],
 "metadata": {
  "kernelspec": {
   "display_name": "Python 3 (ipykernel)",
   "language": "python",
   "name": "python3"
  },
  "language_info": {
   "codemirror_mode": {
    "name": "ipython",
    "version": 3
   },
   "file_extension": ".py",
   "mimetype": "text/x-python",
   "name": "python",
   "nbconvert_exporter": "python",
   "pygments_lexer": "ipython3",
   "version": "3.9.7"
  }
 },
 "nbformat": 4,
 "nbformat_minor": 5
}
