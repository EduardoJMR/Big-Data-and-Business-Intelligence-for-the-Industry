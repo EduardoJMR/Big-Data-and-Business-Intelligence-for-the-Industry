{
 "cells": [
  {
   "cell_type": "code",
   "execution_count": 1,
   "id": "469803ae",
   "metadata": {},
   "outputs": [],
   "source": [
    "import matplotlib.pyplot as plt\n",
    "import numpy as np\n",
    "from scipy import optimize\n",
    "import cvxopt\n",
    "import pulp\n",
    "from pyomo.environ import *\n",
    "from pyomo.opt import SolverFactory\n",
    "import pyomo.environ"
   ]
  },
  {
   "cell_type": "code",
   "execution_count": 2,
   "id": "d5a7cf4b",
   "metadata": {},
   "outputs": [],
   "source": [
    "# Ejemplo del problema de transporte de las cervezas utilizando Pyomo\n",
    "# Creación del modelo\n",
    "modelo = ConcreteModel()\n",
    "\n",
    "# Planteamiento de los nodos de oferta y demanda\n",
    "modelo.i = Set(initialize=[\"Planta 1\",\"Planta 2\", \"Planta 3\"], doc='Plantas')\n",
    "modelo.j = Set(initialize=['Ciudad 1', 'Ciudad 2', 'Ciudad 3', 'Ciudad 4'],\n",
    "               doc='Ciudades')\n",
    "\n",
    "# Definicion de la capacidad de oferta y demanda\n",
    "modelo.a = Param(modelo.i, initialize={'Planta 1':35,'Planta 2':50,'Planta 3':40},\n",
    "                 doc='Capacidad de oferta de las plantas')\n",
    "modelo.b = Param(modelo.j, initialize={'Ciudad 1':45,'Ciudad 2':20,'Ciudad 3':30, \n",
    "                                      'Ciudad 4':30},\n",
    "                 doc='Demanda de cada ciudad')\n",
    "\n",
    "# Costo del KWh x ciudad\n",
    "costos = {\n",
    "    ('Planta 1', 'Ciudad 1'): 8,\n",
    "    ('Planta 1', 'Ciudad 2'): 6,\n",
    "    ('Planta 1', 'Ciudad 3'): 10,\n",
    "    ('Planta 1', 'Ciudad 4'): 9,\n",
    "    ('Planta 2', 'Ciudad 1'): 9,\n",
    "    ('Planta 2', 'Ciudad 2'): 12,\n",
    "    ('Planta 2', 'Ciudad 3'): 13,\n",
    "    ('Planta 2', 'Ciudad 4'): 7,\n",
    "    ('Planta 3', 'Ciudad 1'): 14,\n",
    "    ('Planta 3', 'Ciudad 2'): 9,\n",
    "    ('Planta 3', 'Ciudad 3'): 16,\n",
    "    ('Planta 3', 'Ciudad 4'): 5,\n",
    "    }\n",
    "modelo.d = Param(modelo.i, modelo.j, initialize=costos, \n",
    "                doc='Costo de enviar energía')\n",
    "\n",
    "# Coste de transporte\n",
    "def f_costo(modelo, i, j):\n",
    "    return modelo.d[i,j]\n",
    "modelo.c = Param(modelo.i, modelo.j, initialize=f_costo, \n",
    "                doc='Costo de transporte')\n",
    "\n",
    "\n",
    "modelo.x = Var(modelo.i, modelo.j, bounds=(0.0,None), \n",
    "              doc='Cantidad de millones (KWh)')"
   ]
  },
  {
   "cell_type": "code",
   "execution_count": 3,
   "id": "54cc192d",
   "metadata": {},
   "outputs": [],
   "source": [
    "## Definimos las restricciones ##\n",
    "# Límite de oferta\n",
    "def f_oferta(modelo, i):\n",
    "    return sum(modelo.x[i,j] for j in modelo.j) <= modelo.a[i]\n",
    "modelo.oferta = Constraint(modelo.i, rule=f_oferta, \n",
    "                           doc='Límites oferta de cada Planta')\n",
    "\n",
    "# Límite de demanda\n",
    "def f_demanda(modelo, j):\n",
    "    return sum(modelo.x[i,j] for i in modelo.i) >= modelo.b[j]  \n",
    "modelo.demanda = Constraint(modelo.j, rule=f_demanda, \n",
    "                            doc='Límites demanda de cada Ciudad')"
   ]
  },
  {
   "cell_type": "code",
   "execution_count": 4,
   "id": "9fdbe63c",
   "metadata": {},
   "outputs": [
    {
     "name": "stdout",
     "output_type": "stream",
     "text": [
      "\n",
      "Solución óptima encontrada\n",
      "--------------------------------------------------------------------------------\n",
      "x : Cantidad de millones (KWh)\n",
      "    Size=12, Index=x_index\n",
      "    Key                      : Lower : Value : Upper : Fixed : Stale : Domain\n",
      "    ('Planta 1', 'Ciudad 1') :   0.0 :   0.0 :  None : False : False :  Reals\n",
      "    ('Planta 1', 'Ciudad 2') :   0.0 :  10.0 :  None : False : False :  Reals\n",
      "    ('Planta 1', 'Ciudad 3') :   0.0 :  25.0 :  None : False : False :  Reals\n",
      "    ('Planta 1', 'Ciudad 4') :   0.0 :   0.0 :  None : False : False :  Reals\n",
      "    ('Planta 2', 'Ciudad 1') :   0.0 :  45.0 :  None : False : False :  Reals\n",
      "    ('Planta 2', 'Ciudad 2') :   0.0 :   0.0 :  None : False : False :  Reals\n",
      "    ('Planta 2', 'Ciudad 3') :   0.0 :   5.0 :  None : False : False :  Reals\n",
      "    ('Planta 2', 'Ciudad 4') :   0.0 :   0.0 :  None : False : False :  Reals\n",
      "    ('Planta 3', 'Ciudad 1') :   0.0 :   0.0 :  None : False : False :  Reals\n",
      "    ('Planta 3', 'Ciudad 2') :   0.0 :  10.0 :  None : False : False :  Reals\n",
      "    ('Planta 3', 'Ciudad 3') :   0.0 :   0.0 :  None : False : False :  Reals\n",
      "    ('Planta 3', 'Ciudad 4') :   0.0 :  30.0 :  None : False : False :  Reals\n"
     ]
    }
   ],
   "source": [
    "## Definimos la función objetivo y resolvemos el problema ##\n",
    "# Función objetivo\n",
    "def f_objetivo(modelo):\n",
    "    return sum(modelo.c[i,j]*modelo.x[i,j] for i in modelo.i for j in modelo.j)\n",
    "modelo.objetivo = Objective(rule=f_objetivo, sense=minimize, \n",
    "                           doc='Función Objetivo')\n",
    "\n",
    "# resolvemos el problema e imprimimos resultados\n",
    "def pyomo_postprocess(options=None, instance=None, results=None):\n",
    "    modelo.x.display()\n",
    "\n",
    "# utilizamos solver glpk\n",
    "opt = SolverFactory(\"glpk\")\n",
    "resultados = opt.solve(modelo)\n",
    "\n",
    "# imprimimos resultados\n",
    "print(\"\\nSolución óptima encontrada\\n\" + '-'*80)\n",
    "pyomo_postprocess(None, None, resultados)"
   ]
  },
  {
   "cell_type": "code",
   "execution_count": null,
   "id": "1656885e",
   "metadata": {},
   "outputs": [],
   "source": []
  }
 ],
 "metadata": {
  "kernelspec": {
   "display_name": "Python 3 (ipykernel)",
   "language": "python",
   "name": "python3"
  },
  "language_info": {
   "codemirror_mode": {
    "name": "ipython",
    "version": 3
   },
   "file_extension": ".py",
   "mimetype": "text/x-python",
   "name": "python",
   "nbconvert_exporter": "python",
   "pygments_lexer": "ipython3",
   "version": "3.9.7"
  }
 },
 "nbformat": 4,
 "nbformat_minor": 5
}
