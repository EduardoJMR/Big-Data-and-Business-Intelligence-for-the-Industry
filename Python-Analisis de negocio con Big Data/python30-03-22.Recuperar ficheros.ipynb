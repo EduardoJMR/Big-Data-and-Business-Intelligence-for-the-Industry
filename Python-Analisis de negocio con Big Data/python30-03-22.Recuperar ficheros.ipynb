{
 "cells": [
  {
   "cell_type": "code",
   "execution_count": null,
   "id": "566a5500",
   "metadata": {},
   "outputs": [],
   "source": [
    "1. NumPy\n",
    "Los datos importados se almacenan en una matriz.\n",
    "• Mismo tipo de datos.\n",
    "La función loadtxt() de NumPy carga el archivo en una matriz.\n",
    "El delimitador por defecto es espacio en blanco, si es otro habrá que pasarlo como\n",
    "segundo argumento delimiter (‘,’ en el caso de coma, ‘\\t’ si es tabulador…).\n",
    "Si el archivo tiene cabecera podemos saltar las filas correspondientes con skiprows\n",
    "(pasar el valor 0 es equivalente a omitir este argumento, devolviendo todas las filas).\n",
    "Para fijar las columnas pasamos el argumento usecols=[…] con sus índices, recordando\n",
    "que a la primera columna corresponde el índice 0."
   ]
  },
  {
   "cell_type": "code",
   "execution_count": 7,
   "id": "dfb105fb",
   "metadata": {},
   "outputs": [],
   "source": [
    "import numpy as np\n",
    "import pandas as pd"
   ]
  },
  {
   "cell_type": "code",
   "execution_count": 15,
   "id": "eba36ee8",
   "metadata": {},
   "outputs": [
    {
     "data": {
      "text/plain": [
       "array([[1.3500e+04, 2.3000e+01, 4.6986e+04],\n",
       "       [1.3750e+04, 2.3000e+01, 7.2937e+04],\n",
       "       [1.3950e+04, 2.4000e+01, 4.1711e+04],\n",
       "       ...,\n",
       "       [8.5000e+03, 7.1000e+01, 1.7016e+04],\n",
       "       [7.2500e+03, 7.0000e+01, 1.6916e+04],\n",
       "       [6.9500e+03, 7.6000e+01, 1.0000e+00]])"
      ]
     },
     "execution_count": 15,
     "metadata": {},
     "output_type": "execute_result"
    }
   ],
   "source": [
    "file='Toyota.txt'\n",
    "data=np.loadtxt(file,delimiter='\\t',skiprows=1,usecols=[0,1,2])\n",
    "data"
   ]
  },
  {
   "cell_type": "code",
   "execution_count": 16,
   "id": "ea8107a9",
   "metadata": {},
   "outputs": [
    {
     "data": {
      "text/plain": [
       "array([['13500', '23', '46986', ..., '2000', '3', '1165'],\n",
       "       ['13750', '23', '72937', ..., '2000', '3', '1165'],\n",
       "       ['13950', '24', '41711', ..., '2000', '3', '1165'],\n",
       "       ...,\n",
       "       ['8500', '71', '17016', ..., '1300', '3', '1015'],\n",
       "       ['7250', '70', '16916', ..., '1300', '3', '1015'],\n",
       "       ['6950', '76', '1', ..., '1600', '5', '1114']], dtype='<U6')"
      ]
     },
     "execution_count": 16,
     "metadata": {},
     "output_type": "execute_result"
    }
   ],
   "source": [
    "file='toyota.txt'\n",
    "data2=np.loadtxt(file,delimiter='\\t',skiprows=1,dtype=bytes).astype(str)\n",
    "data2"
   ]
  },
  {
   "cell_type": "code",
   "execution_count": 31,
   "id": "6af66f2d",
   "metadata": {},
   "outputs": [
    {
     "data": {
      "text/plain": [
       "array([['Price', 'Age', 'KM', ..., 'CC', 'Doors', 'Weight'],\n",
       "       ['13500', '23', '46986', ..., '2000', '3', '1165'],\n",
       "       ['13750', '23', '72937', ..., '2000', '3', '1165'],\n",
       "       ...,\n",
       "       ['8500', '71', '17016', ..., '1300', '3', '1015'],\n",
       "       ['7250', '70', '16916', ..., '1300', '3', '1015'],\n",
       "       ['6950', '76', '1', ..., '1600', '5', '1114']], dtype='<U9')"
      ]
     },
     "execution_count": 31,
     "metadata": {},
     "output_type": "execute_result"
    }
   ],
   "source": [
    "file='toyota.txt'\n",
    "data2=np.loadtxt(file,delimiter='\\t',skiprows=0,dtype=bytes).astype(str)\n",
    "data2"
   ]
  },
  {
   "cell_type": "code",
   "execution_count": null,
   "id": "1ae2f0bc",
   "metadata": {},
   "outputs": [],
   "source": [
    "Diferente tipo de datos.\n",
    "Si en nuestro archivo tenemos datos de diferentes tipos, podemos usar dos funciones:\n",
    "genfromtext() y recfromcsv().\n",
    "genfromtext():\n",
    "Cuando exista cabecera, especificaremos names=True.\n",
    "Al pasar el argumento dtype=None, la función averigua qué tipo corresponde a cada\n",
    "columna."
   ]
  },
  {
   "cell_type": "code",
   "execution_count": 32,
   "id": "4dba7ff0",
   "metadata": {},
   "outputs": [
    {
     "data": {
      "text/plain": [
       "rec.array([(b'13500,23,46986,Diesel,90,1,0,2000,3,1165',),\n",
       "           (b'13750,23,72937,Diesel,90,1,0,2000,3,1165',),\n",
       "           (b'13950,24,41711,Diesel,90,1,0,2000,3,1165',), ...,\n",
       "           (b'8500,71,17016,Petrol,86,0,0,1300,3,1015',),\n",
       "           (b'7250,70,16916,Petrol,86,1,0,1300,3,1015',),\n",
       "           (b'6950,76,1,Petrol,110,0,0,1600,5,1114',)],\n",
       "          dtype=[('priceagekmfueltypehpmetcolorautomaticccdoorsweight', 'O')])"
      ]
     },
     "execution_count": 32,
     "metadata": {},
     "output_type": "execute_result"
    }
   ],
   "source": [
    "file='ToyotaCorolla.csv'\n",
    "data3=np.genfromtxt('ToyotaCorolla.csv', delimiter='\\t',names=True,dtype=object)\n",
    "data3"
   ]
  },
  {
   "cell_type": "code",
   "execution_count": 33,
   "id": "03d16dcd",
   "metadata": {},
   "outputs": [
    {
     "data": {
      "text/plain": [
       "rec.array([(b'13500,23,46986,Diesel,90,1,0,2000,3,1165',),\n",
       "           (b'13750,23,72937,Diesel,90,1,0,2000,3,1165',),\n",
       "           (b'13950,24,41711,Diesel,90,1,0,2000,3,1165',), ...,\n",
       "           (b'8500,71,17016,Petrol,86,0,0,1300,3,1015',),\n",
       "           (b'7250,70,16916,Petrol,86,1,0,1300,3,1015',),\n",
       "           (b'6950,76,1,Petrol,110,0,0,1600,5,1114',)],\n",
       "          dtype=[('priceagekmfueltypehpmetcolorautomaticccdoorsweight', 'O')])"
      ]
     },
     "execution_count": 33,
     "metadata": {},
     "output_type": "execute_result"
    }
   ],
   "source": [
    "file='ToyotaCorolla.csv'\n",
    "data3=np.recfromcsv('ToyotaCorolla.csv', delimiter='\\t',names=True,dtype=object)\n",
    "data3"
   ]
  },
  {
   "cell_type": "code",
   "execution_count": null,
   "id": "a60c4706",
   "metadata": {},
   "outputs": [],
   "source": [
    "En la salida podemos observar que las variables tipo cadena están precedidas por una\n",
    "‘b’. Este carácter sólo indica que la cadena es de tipo ‘bytestring’, el valor almacenado\n",
    "es la cadena entre comillas simples.\n",
    "\n",
    "Al contener datos de diferente tipo, el archivo importado será un objeto llamado matriz\n",
    "estructurada. Como las matrices NumPy han de contener elementos del mismo tipo, la\n",
    "matriz estructurada es unidimensional, donde cada uno de sus elementos corresponde\n",
    "a una fila del fichero plano importado.\n",
    "\n",
    "El acceso a una matriz estructurada es muy intuitivo. Así:\n",
    "• Filas (por índice): data[i] > fila i-ésima\n",
    "• Columnas (por nombre): data[‘Nombre_columna’]\n",
    "    \n",
    "recfromcsv():\n",
    "Análoga a la anterior, excepto que su valor por defecto para dtype es ‘None’.\n",
    "Probemos a obtener el mismo resultado que en la ejecución anterior, pero limitando la\n",
    "impresión de datos a las 3 primeras filas."
   ]
  },
  {
   "cell_type": "code",
   "execution_count": 37,
   "id": "384240d2",
   "metadata": {},
   "outputs": [
    {
     "data": {
      "text/plain": [
       "rec.array([(13500, 23, 46986, b'Diesel', 90, 1, 0, 2000, 3, 1165),\n",
       "           (13750, 23, 72937, b'Diesel', 90, 1, 0, 2000, 3, 1165),\n",
       "           (13950, 24, 41711, b'Diesel', 90, 1, 0, 2000, 3, 1165)],\n",
       "          dtype=[('price', '<i4'), ('age', '<i4'), ('km', '<i4'), ('fueltype', 'S6'), ('hp', '<i4'), ('metcolor', '<i4'), ('automatic', '<i4'), ('cc', '<i4'), ('doors', '<i4'), ('weight', '<i4')])"
      ]
     },
     "execution_count": 37,
     "metadata": {},
     "output_type": "execute_result"
    }
   ],
   "source": [
    "file='ToyotaCorolla.csv'\n",
    "data4=np.recfromcsv(file)\n",
    "data4[:3]"
   ]
  },
  {
   "cell_type": "code",
   "execution_count": null,
   "id": "f70803c9",
   "metadata": {},
   "outputs": [],
   "source": [
    "2. pandas\n",
    "\n",
    "Los datos importados se almacenan en un dataframe.\n",
    "\n",
    "La librería pandas hace posible llevar a cabo todo el proceso (lectura de datos,\n",
    "depuración, análisis y modelización) sin necesidad de cambiar a un lenguaje más\n",
    "específico como R (idea difícil de encajar para un enamorado de R).\n",
    "Encontramos aquí el concepto dataframe, análogo al de R, que no es más que un\n",
    "conjunto de observaciones y variables.\n",
    "\n",
    "La función read_csv() lee un fichero plano y lo almacena en un dataframe.\n",
    "El argumento nrows limita el número de filas a importar.\n",
    "\n",
    "En caso de no tener cabecera, pasamos el argumento header=None.\n",
    "Limitamos la visualización de datos con la función nombre_dataframe.head()."
   ]
  },
  {
   "cell_type": "code",
   "execution_count": 40,
   "id": "cfb6d537",
   "metadata": {},
   "outputs": [
    {
     "data": {
      "text/html": [
       "<div>\n",
       "<style scoped>\n",
       "    .dataframe tbody tr th:only-of-type {\n",
       "        vertical-align: middle;\n",
       "    }\n",
       "\n",
       "    .dataframe tbody tr th {\n",
       "        vertical-align: top;\n",
       "    }\n",
       "\n",
       "    .dataframe thead th {\n",
       "        text-align: right;\n",
       "    }\n",
       "</style>\n",
       "<table border=\"1\" class=\"dataframe\">\n",
       "  <thead>\n",
       "    <tr style=\"text-align: right;\">\n",
       "      <th></th>\n",
       "      <th>Price</th>\n",
       "      <th>Age</th>\n",
       "      <th>KM</th>\n",
       "      <th>FuelType</th>\n",
       "      <th>HP</th>\n",
       "      <th>MetColor</th>\n",
       "      <th>Automatic</th>\n",
       "      <th>CC</th>\n",
       "      <th>Doors</th>\n",
       "      <th>Weight</th>\n",
       "    </tr>\n",
       "  </thead>\n",
       "  <tbody>\n",
       "    <tr>\n",
       "      <th>0</th>\n",
       "      <td>13500</td>\n",
       "      <td>23</td>\n",
       "      <td>46986</td>\n",
       "      <td>Diesel</td>\n",
       "      <td>90</td>\n",
       "      <td>1</td>\n",
       "      <td>0</td>\n",
       "      <td>2000</td>\n",
       "      <td>3</td>\n",
       "      <td>1165</td>\n",
       "    </tr>\n",
       "    <tr>\n",
       "      <th>1</th>\n",
       "      <td>13750</td>\n",
       "      <td>23</td>\n",
       "      <td>72937</td>\n",
       "      <td>Diesel</td>\n",
       "      <td>90</td>\n",
       "      <td>1</td>\n",
       "      <td>0</td>\n",
       "      <td>2000</td>\n",
       "      <td>3</td>\n",
       "      <td>1165</td>\n",
       "    </tr>\n",
       "    <tr>\n",
       "      <th>2</th>\n",
       "      <td>13950</td>\n",
       "      <td>24</td>\n",
       "      <td>41711</td>\n",
       "      <td>Diesel</td>\n",
       "      <td>90</td>\n",
       "      <td>1</td>\n",
       "      <td>0</td>\n",
       "      <td>2000</td>\n",
       "      <td>3</td>\n",
       "      <td>1165</td>\n",
       "    </tr>\n",
       "    <tr>\n",
       "      <th>3</th>\n",
       "      <td>14950</td>\n",
       "      <td>26</td>\n",
       "      <td>48000</td>\n",
       "      <td>Diesel</td>\n",
       "      <td>90</td>\n",
       "      <td>0</td>\n",
       "      <td>0</td>\n",
       "      <td>2000</td>\n",
       "      <td>3</td>\n",
       "      <td>1165</td>\n",
       "    </tr>\n",
       "  </tbody>\n",
       "</table>\n",
       "</div>"
      ],
      "text/plain": [
       "   Price  Age     KM FuelType  HP  MetColor  Automatic    CC  Doors  Weight\n",
       "0  13500   23  46986   Diesel  90         1          0  2000      3    1165\n",
       "1  13750   23  72937   Diesel  90         1          0  2000      3    1165\n",
       "2  13950   24  41711   Diesel  90         1          0  2000      3    1165\n",
       "3  14950   26  48000   Diesel  90         0          0  2000      3    1165"
      ]
     },
     "execution_count": 40,
     "metadata": {},
     "output_type": "execute_result"
    }
   ],
   "source": [
    "file='ToyotaCorolla.csv'\n",
    "data5=pd.read_csv(file,nrows=4)\n",
    "data5.head()"
   ]
  },
  {
   "cell_type": "code",
   "execution_count": null,
   "id": "679bfff3",
   "metadata": {},
   "outputs": [],
   "source": [
    "Vemos que los valores perdidos se han recodificado como NaN.\n",
    "\n",
    "La función read_csv() puede tomar otros argumentos como:\n",
    "\n",
    "• sep: indica el tipo de separador.\n",
    "• comment: especifica el carácter que precede a un comentario.\n",
    "• na_values: pasa una lista de cadenas que queremos identificar como valores perdidos.\n",
    "    \n",
    "Utilizar la base de datos ToyotaCorolla para calcular los parámetros estadísticos\n",
    "estudiados, establecer histograma de diferentes columnas numéricas, etc."
   ]
  },
  {
   "cell_type": "code",
   "execution_count": 41,
   "id": "d1a85957",
   "metadata": {},
   "outputs": [
    {
     "data": {
      "text/plain": [
       "Price        14037.50\n",
       "Age             24.00\n",
       "KM           52408.50\n",
       "HP              90.00\n",
       "MetColor         0.75\n",
       "Automatic        0.00\n",
       "CC            2000.00\n",
       "Doors            3.00\n",
       "Weight        1165.00\n",
       "dtype: float64"
      ]
     },
     "execution_count": 41,
     "metadata": {},
     "output_type": "execute_result"
    }
   ],
   "source": [
    "data5.mean(axis=0,numeric_only=True)"
   ]
  },
  {
   "cell_type": "code",
   "execution_count": 42,
   "id": "12038633",
   "metadata": {},
   "outputs": [
    {
     "data": {
      "text/html": [
       "<div>\n",
       "<style scoped>\n",
       "    .dataframe tbody tr th:only-of-type {\n",
       "        vertical-align: middle;\n",
       "    }\n",
       "\n",
       "    .dataframe tbody tr th {\n",
       "        vertical-align: top;\n",
       "    }\n",
       "\n",
       "    .dataframe thead th {\n",
       "        text-align: right;\n",
       "    }\n",
       "</style>\n",
       "<table border=\"1\" class=\"dataframe\">\n",
       "  <thead>\n",
       "    <tr style=\"text-align: right;\">\n",
       "      <th></th>\n",
       "      <th>Price</th>\n",
       "      <th>Age</th>\n",
       "      <th>KM</th>\n",
       "      <th>FuelType</th>\n",
       "      <th>HP</th>\n",
       "      <th>MetColor</th>\n",
       "      <th>Automatic</th>\n",
       "      <th>CC</th>\n",
       "      <th>Doors</th>\n",
       "      <th>Weight</th>\n",
       "    </tr>\n",
       "  </thead>\n",
       "  <tbody>\n",
       "    <tr>\n",
       "      <th>0</th>\n",
       "      <td>13500</td>\n",
       "      <td>23</td>\n",
       "      <td>46986</td>\n",
       "      <td>Diesel</td>\n",
       "      <td>90</td>\n",
       "      <td>1</td>\n",
       "      <td>0</td>\n",
       "      <td>2000</td>\n",
       "      <td>3</td>\n",
       "      <td>1165</td>\n",
       "    </tr>\n",
       "    <tr>\n",
       "      <th>1</th>\n",
       "      <td>13750</td>\n",
       "      <td>23</td>\n",
       "      <td>72937</td>\n",
       "      <td>Diesel</td>\n",
       "      <td>90</td>\n",
       "      <td>1</td>\n",
       "      <td>0</td>\n",
       "      <td>2000</td>\n",
       "      <td>3</td>\n",
       "      <td>1165</td>\n",
       "    </tr>\n",
       "    <tr>\n",
       "      <th>2</th>\n",
       "      <td>13950</td>\n",
       "      <td>24</td>\n",
       "      <td>41711</td>\n",
       "      <td>Diesel</td>\n",
       "      <td>90</td>\n",
       "      <td>1</td>\n",
       "      <td>0</td>\n",
       "      <td>2000</td>\n",
       "      <td>3</td>\n",
       "      <td>1165</td>\n",
       "    </tr>\n",
       "    <tr>\n",
       "      <th>3</th>\n",
       "      <td>14950</td>\n",
       "      <td>26</td>\n",
       "      <td>48000</td>\n",
       "      <td>Diesel</td>\n",
       "      <td>90</td>\n",
       "      <td>0</td>\n",
       "      <td>0</td>\n",
       "      <td>2000</td>\n",
       "      <td>3</td>\n",
       "      <td>1165</td>\n",
       "    </tr>\n",
       "  </tbody>\n",
       "</table>\n",
       "</div>"
      ],
      "text/plain": [
       "   Price  Age     KM FuelType  HP  MetColor  Automatic    CC  Doors  Weight\n",
       "0  13500   23  46986   Diesel  90         1          0  2000      3    1165\n",
       "1  13750   23  72937   Diesel  90         1          0  2000      3    1165\n",
       "2  13950   24  41711   Diesel  90         1          0  2000      3    1165\n",
       "3  14950   26  48000   Diesel  90         0          0  2000      3    1165"
      ]
     },
     "execution_count": 42,
     "metadata": {},
     "output_type": "execute_result"
    }
   ],
   "source": [
    "#Resumen estadístico con pandas\n",
    "dataframe=pd.DataFrame(data5)\n",
    "dataframe"
   ]
  },
  {
   "cell_type": "code",
   "execution_count": 44,
   "id": "56eec9e5",
   "metadata": {},
   "outputs": [
    {
     "data": {
      "text/html": [
       "<div>\n",
       "<style scoped>\n",
       "    .dataframe tbody tr th:only-of-type {\n",
       "        vertical-align: middle;\n",
       "    }\n",
       "\n",
       "    .dataframe tbody tr th {\n",
       "        vertical-align: top;\n",
       "    }\n",
       "\n",
       "    .dataframe thead th {\n",
       "        text-align: right;\n",
       "    }\n",
       "</style>\n",
       "<table border=\"1\" class=\"dataframe\">\n",
       "  <thead>\n",
       "    <tr style=\"text-align: right;\">\n",
       "      <th></th>\n",
       "      <th>Price</th>\n",
       "      <th>Age</th>\n",
       "      <th>KM</th>\n",
       "      <th>HP</th>\n",
       "      <th>MetColor</th>\n",
       "      <th>Automatic</th>\n",
       "      <th>CC</th>\n",
       "      <th>Doors</th>\n",
       "      <th>Weight</th>\n",
       "    </tr>\n",
       "  </thead>\n",
       "  <tbody>\n",
       "    <tr>\n",
       "      <th>count</th>\n",
       "      <td>4.000000</td>\n",
       "      <td>4.000000</td>\n",
       "      <td>4.000000</td>\n",
       "      <td>4.0</td>\n",
       "      <td>4.00</td>\n",
       "      <td>4.0</td>\n",
       "      <td>4.0</td>\n",
       "      <td>4.0</td>\n",
       "      <td>4.0</td>\n",
       "    </tr>\n",
       "    <tr>\n",
       "      <th>mean</th>\n",
       "      <td>14037.500000</td>\n",
       "      <td>24.000000</td>\n",
       "      <td>52408.500000</td>\n",
       "      <td>90.0</td>\n",
       "      <td>0.75</td>\n",
       "      <td>0.0</td>\n",
       "      <td>2000.0</td>\n",
       "      <td>3.0</td>\n",
       "      <td>1165.0</td>\n",
       "    </tr>\n",
       "    <tr>\n",
       "      <th>std</th>\n",
       "      <td>635.577166</td>\n",
       "      <td>1.414214</td>\n",
       "      <td>13960.589732</td>\n",
       "      <td>0.0</td>\n",
       "      <td>0.50</td>\n",
       "      <td>0.0</td>\n",
       "      <td>0.0</td>\n",
       "      <td>0.0</td>\n",
       "      <td>0.0</td>\n",
       "    </tr>\n",
       "    <tr>\n",
       "      <th>min</th>\n",
       "      <td>13500.000000</td>\n",
       "      <td>23.000000</td>\n",
       "      <td>41711.000000</td>\n",
       "      <td>90.0</td>\n",
       "      <td>0.00</td>\n",
       "      <td>0.0</td>\n",
       "      <td>2000.0</td>\n",
       "      <td>3.0</td>\n",
       "      <td>1165.0</td>\n",
       "    </tr>\n",
       "    <tr>\n",
       "      <th>25%</th>\n",
       "      <td>13687.500000</td>\n",
       "      <td>23.000000</td>\n",
       "      <td>45667.250000</td>\n",
       "      <td>90.0</td>\n",
       "      <td>0.75</td>\n",
       "      <td>0.0</td>\n",
       "      <td>2000.0</td>\n",
       "      <td>3.0</td>\n",
       "      <td>1165.0</td>\n",
       "    </tr>\n",
       "    <tr>\n",
       "      <th>50%</th>\n",
       "      <td>13850.000000</td>\n",
       "      <td>23.500000</td>\n",
       "      <td>47493.000000</td>\n",
       "      <td>90.0</td>\n",
       "      <td>1.00</td>\n",
       "      <td>0.0</td>\n",
       "      <td>2000.0</td>\n",
       "      <td>3.0</td>\n",
       "      <td>1165.0</td>\n",
       "    </tr>\n",
       "    <tr>\n",
       "      <th>75%</th>\n",
       "      <td>14200.000000</td>\n",
       "      <td>24.500000</td>\n",
       "      <td>54234.250000</td>\n",
       "      <td>90.0</td>\n",
       "      <td>1.00</td>\n",
       "      <td>0.0</td>\n",
       "      <td>2000.0</td>\n",
       "      <td>3.0</td>\n",
       "      <td>1165.0</td>\n",
       "    </tr>\n",
       "    <tr>\n",
       "      <th>max</th>\n",
       "      <td>14950.000000</td>\n",
       "      <td>26.000000</td>\n",
       "      <td>72937.000000</td>\n",
       "      <td>90.0</td>\n",
       "      <td>1.00</td>\n",
       "      <td>0.0</td>\n",
       "      <td>2000.0</td>\n",
       "      <td>3.0</td>\n",
       "      <td>1165.0</td>\n",
       "    </tr>\n",
       "  </tbody>\n",
       "</table>\n",
       "</div>"
      ],
      "text/plain": [
       "              Price        Age            KM    HP  MetColor  Automatic  \\\n",
       "count      4.000000   4.000000      4.000000   4.0      4.00        4.0   \n",
       "mean   14037.500000  24.000000  52408.500000  90.0      0.75        0.0   \n",
       "std      635.577166   1.414214  13960.589732   0.0      0.50        0.0   \n",
       "min    13500.000000  23.000000  41711.000000  90.0      0.00        0.0   \n",
       "25%    13687.500000  23.000000  45667.250000  90.0      0.75        0.0   \n",
       "50%    13850.000000  23.500000  47493.000000  90.0      1.00        0.0   \n",
       "75%    14200.000000  24.500000  54234.250000  90.0      1.00        0.0   \n",
       "max    14950.000000  26.000000  72937.000000  90.0      1.00        0.0   \n",
       "\n",
       "           CC  Doors  Weight  \n",
       "count     4.0    4.0     4.0  \n",
       "mean   2000.0    3.0  1165.0  \n",
       "std       0.0    0.0     0.0  \n",
       "min    2000.0    3.0  1165.0  \n",
       "25%    2000.0    3.0  1165.0  \n",
       "50%    2000.0    3.0  1165.0  \n",
       "75%    2000.0    3.0  1165.0  \n",
       "max    2000.0    3.0  1165.0  "
      ]
     },
     "execution_count": 44,
     "metadata": {},
     "output_type": "execute_result"
    }
   ],
   "source": [
    "dataframe.describe()"
   ]
  },
  {
   "cell_type": "code",
   "execution_count": null,
   "id": "fa347023",
   "metadata": {},
   "outputs": [],
   "source": [
    "Puedes crear un DataFrame que incluya sólo los valores de los datos que te sean útiles."
   ]
  },
  {
   "cell_type": "code",
   "execution_count": 47,
   "id": "a3b595a3",
   "metadata": {},
   "outputs": [],
   "source": [
    "import matplotlib.pyplot as plt"
   ]
  },
  {
   "cell_type": "code",
   "execution_count": 49,
   "id": "a77ad8b9",
   "metadata": {},
   "outputs": [
    {
     "data": {
      "image/png": "[encoded data removed]",
      "text/plain": [
       "<Figure size 432x288 with 1 Axes>"
      ]
     },
     "metadata": {
      "needs_background": "light"
     },
     "output_type": "display_data"
    }
   ],
   "source": [
    "surveys= pd.read_csv(\"ToyotaCorolla.csv\")\n",
    "my_plt=surveys.plot(\"Price\",\"Age\",kind=\"scatter\")\n",
    "plt.show()"
   ]
  },
  {
   "cell_type": "code",
   "execution_count": 51,
   "id": "ed8a0906",
   "metadata": {},
   "outputs": [],
   "source": [
    "%matplotlib inline"
   ]
  },
  {
   "cell_type": "code",
   "execution_count": 53,
   "id": "87c643a5",
   "metadata": {},
   "outputs": [
    {
     "data": {
      "image/png": "[encoded data removed]",
      "text/plain": [
       "<Figure size 432x288 with 1 Axes>"
      ]
     },
     "metadata": {
      "needs_background": "light"
     },
     "output_type": "display_data"
    }
   ],
   "source": [
    "surveys= pd.read_csv(\"ToyotaCorolla.csv\")\n",
    "my_plt=surveys.plot(\"Price\",\"Age\",kind=\"hist\")\n",
    "plt.show()"
   ]
  },
  {
   "cell_type": "code",
   "execution_count": null,
   "id": "0f5f7552",
   "metadata": {},
   "outputs": [],
   "source": [
    "Gran parte del potencial de Python reside en su capacidad en las fases previas al\n",
    "análisis de datos, es decir, lectura del raw data y depuración del mismo.\n",
    "\n",
    "En esta serie nos centraremos en la lectura de datos en diversos formatos (ficheros\n",
    "planos, otras extensiones y bases de datos relacionales).\n",
    "\n",
    "Ficheros planos\n",
    "\n",
    "Son ficheros de texto que almacenan registros (filas de características o atributos).\n",
    "En la primera fila podemos encontrar una cabecera con el nombre de cada una de las\n",
    "características o atributos.\n",
    "\n",
    "Existen dos extensiones: .csv (valores separados por comas) y .txt (los valores pueden\n",
    "estar separados por coma, espacio, tabulador…).\n",
    "    \n",
    "Hagamos un breve recordatorio sobre el uso de librerías en Python. Para usar una\n",
    "función de una librería específica, previamente hemos de cargar la librería mediante\n",
    "import. Para hacer la llamada a dicha función usaremos:\n",
    "nombre_librería.nombre_función() o bien alias_librería.nombre_función().\n",
    "\n",
    "Otro aspecto a tener en cuenta es que los archivos a importar han de estar en el\n",
    "directorio de trabajo actual. Si no recordamos su ubicación, podemos comprobarlo:"
   ]
  },
  {
   "cell_type": "code",
   "execution_count": 56,
   "id": "a00fd808",
   "metadata": {},
   "outputs": [],
   "source": [
    "import os"
   ]
  },
  {
   "cell_type": "code",
   "execution_count": 59,
   "id": "81f3a238",
   "metadata": {},
   "outputs": [
    {
     "data": {
      "text/plain": [
       "'C:\\\\Users\\\\eduma\\\\OneDrive\\\\Documentos\\\\Python-Analisis de negocio con Big Data'"
      ]
     },
     "execution_count": 59,
     "metadata": {},
     "output_type": "execute_result"
    }
   ],
   "source": [
    "os.getcwd()"
   ]
  },
  {
   "cell_type": "code",
   "execution_count": null,
   "id": "e5dafa29",
   "metadata": {},
   "outputs": [],
   "source": [
    "Repeticion con cars.txt y cars.csv"
   ]
  },
  {
   "cell_type": "code",
   "execution_count": 6,
   "id": "9a2f9475",
   "metadata": {},
   "outputs": [],
   "source": [
    "import numpy as np\n",
    "import pandas as pd"
   ]
  },
  {
   "cell_type": "code",
   "execution_count": 10,
   "id": "e8ad3ab3",
   "metadata": {},
   "outputs": [
    {
     "data": {
      "text/plain": [
       "array([['1984', 'Alfa Romeo', 'Spider Veloce 2000'],\n",
       "       ['1984', 'Bertone', 'X1/9'],\n",
       "       ['1984', 'Chevrolet', 'Corvette'],\n",
       "       ...,\n",
       "       ['2019', 'Volvo', 'S90 AWD PHEV'],\n",
       "       ['2019', 'Volvo', 'XC60 AWD PHEV'],\n",
       "       ['2019', 'Volvo', 'XC90 AWD PHEV']], dtype='<U47')"
      ]
     },
     "execution_count": 10,
     "metadata": {},
     "output_type": "execute_result"
    }
   ],
   "source": [
    "file='cars.txt'\n",
    "data=np.loadtxt(file,dtype='str',delimiter=',',skiprows=1,usecols=[0,1,2])\n",
    "data"
   ]
  },
  {
   "cell_type": "code",
   "execution_count": 13,
   "id": "1f73ce9c",
   "metadata": {},
   "outputs": [
    {
     "data": {
      "text/plain": [
       "array([['1984', 'Alfa Romeo', 'Spider Veloce 2000'],\n",
       "       ['1984', 'Bertone', 'X1/9'],\n",
       "       ['1984', 'Chevrolet', 'Corvette'],\n",
       "       ...,\n",
       "       ['2019', 'Volvo', 'S90 AWD PHEV'],\n",
       "       ['2019', 'Volvo', 'XC60 AWD PHEV'],\n",
       "       ['2019', 'Volvo', 'XC90 AWD PHEV']], dtype='<U47')"
      ]
     },
     "execution_count": 13,
     "metadata": {},
     "output_type": "execute_result"
    }
   ],
   "source": [
    "file='cars.txt'\n",
    "data2=np.loadtxt(file,delimiter=',',skiprows=1,dtype=bytes,usecols=[0,1,2]).astype(str)\n",
    "data2"
   ]
  },
  {
   "cell_type": "code",
   "execution_count": 34,
   "id": "f22eafd6",
   "metadata": {},
   "outputs": [
    {
     "data": {
      "text/plain": [
       "array([(b'1984', b'Alfa Romeo', b'Spider Veloce 2000', b'25'),\n",
       "       (b'1984', b'Bertone', b'X1/9', b'26'),\n",
       "       (b'1984', b'Chevrolet', b'Corvette', b'20'), ...,\n",
       "       (b'2019', b'Volvo', b'S90 AWD PHEV', b'33'),\n",
       "       (b'2019', b'Volvo', b'XC60 AWD PHEV', b'28'),\n",
       "       (b'2019', b'Volvo', b'XC90 AWD PHEV', b'27')],\n",
       "      dtype=[('ï»¿year', 'O'), ('make', 'O'), ('model', 'O'), ('hwy_mpg', 'O')])"
      ]
     },
     "execution_count": 34,
     "metadata": {},
     "output_type": "execute_result"
    }
   ],
   "source": [
    "file='cars.csv'\n",
    "data3=np.genfromtxt(file,delimiter=',',names=True,dtype=object,usecols=[0,1,2,4])\n",
    "data3"
   ]
  },
  {
   "cell_type": "code",
   "execution_count": 35,
   "id": "840c1d18",
   "metadata": {},
   "outputs": [
    {
     "data": {
      "text/plain": [
       "rec.array([(1984, b'Alfa Romeo', b'Spider Veloce 2000', 25),\n",
       "           (1984, b'Bertone', b'X1/9', 26),\n",
       "           (1984, b'Chevrolet', b'Corvette', 20)],\n",
       "          dtype=[('ï»¿year', '<i4'), ('make', 'S34'), ('model', 'S47'), ('hwy_mpg', '<i4')])"
      ]
     },
     "execution_count": 35,
     "metadata": {},
     "output_type": "execute_result"
    }
   ],
   "source": [
    "file='cars.csv'\n",
    "data4=np.recfromcsv(file,usecols=[0,1,2,4])\n",
    "data4[:3]"
   ]
  },
  {
   "cell_type": "code",
   "execution_count": 36,
   "id": "7cec9798",
   "metadata": {},
   "outputs": [
    {
     "data": {
      "text/html": [
       "<div>\n",
       "<style scoped>\n",
       "    .dataframe tbody tr th:only-of-type {\n",
       "        vertical-align: middle;\n",
       "    }\n",
       "\n",
       "    .dataframe tbody tr th {\n",
       "        vertical-align: top;\n",
       "    }\n",
       "\n",
       "    .dataframe thead th {\n",
       "        text-align: right;\n",
       "    }\n",
       "</style>\n",
       "<table border=\"1\" class=\"dataframe\">\n",
       "  <thead>\n",
       "    <tr style=\"text-align: right;\">\n",
       "      <th></th>\n",
       "      <th>year</th>\n",
       "      <th>make</th>\n",
       "      <th>model</th>\n",
       "      <th>city_mpg</th>\n",
       "      <th>hwy_mpg</th>\n",
       "      <th>comb_mpg</th>\n",
       "      <th>cylinder</th>\n",
       "      <th>drive_type</th>\n",
       "      <th>expected_annual_fuel_cost</th>\n",
       "      <th>fuel_type</th>\n",
       "      <th>transmission</th>\n",
       "      <th>vehicle_class</th>\n",
       "    </tr>\n",
       "  </thead>\n",
       "  <tbody>\n",
       "    <tr>\n",
       "      <th>0</th>\n",
       "      <td>1984</td>\n",
       "      <td>Alfa Romeo</td>\n",
       "      <td>Spider Veloce 2000</td>\n",
       "      <td>18</td>\n",
       "      <td>25</td>\n",
       "      <td>21</td>\n",
       "      <td>4</td>\n",
       "      <td>NaN</td>\n",
       "      <td>2050</td>\n",
       "      <td>Regular</td>\n",
       "      <td>Manual 5-spd</td>\n",
       "      <td>Two Seaters</td>\n",
       "    </tr>\n",
       "    <tr>\n",
       "      <th>1</th>\n",
       "      <td>1984</td>\n",
       "      <td>Bertone</td>\n",
       "      <td>X1/9</td>\n",
       "      <td>20</td>\n",
       "      <td>26</td>\n",
       "      <td>22</td>\n",
       "      <td>4</td>\n",
       "      <td>NaN</td>\n",
       "      <td>1950</td>\n",
       "      <td>Regular</td>\n",
       "      <td>Manual 5-spd</td>\n",
       "      <td>Two Seaters</td>\n",
       "    </tr>\n",
       "    <tr>\n",
       "      <th>2</th>\n",
       "      <td>1984</td>\n",
       "      <td>Chevrolet</td>\n",
       "      <td>Corvette</td>\n",
       "      <td>13</td>\n",
       "      <td>20</td>\n",
       "      <td>15</td>\n",
       "      <td>8</td>\n",
       "      <td>NaN</td>\n",
       "      <td>2850</td>\n",
       "      <td>Regular</td>\n",
       "      <td>Automatic 4-spd</td>\n",
       "      <td>Two Seaters</td>\n",
       "    </tr>\n",
       "    <tr>\n",
       "      <th>3</th>\n",
       "      <td>1984</td>\n",
       "      <td>Chevrolet</td>\n",
       "      <td>Corvette</td>\n",
       "      <td>13</td>\n",
       "      <td>20</td>\n",
       "      <td>15</td>\n",
       "      <td>8</td>\n",
       "      <td>NaN</td>\n",
       "      <td>2850</td>\n",
       "      <td>Regular</td>\n",
       "      <td>Manual 4-spd</td>\n",
       "      <td>Two Seaters</td>\n",
       "    </tr>\n",
       "  </tbody>\n",
       "</table>\n",
       "</div>"
      ],
      "text/plain": [
       "   year        make               model  city_mpg  hwy_mpg  comb_mpg  \\\n",
       "0  1984  Alfa Romeo  Spider Veloce 2000        18       25        21   \n",
       "1  1984     Bertone                X1/9        20       26        22   \n",
       "2  1984   Chevrolet            Corvette        13       20        15   \n",
       "3  1984   Chevrolet            Corvette        13       20        15   \n",
       "\n",
       "   cylinder  drive_type  expected_annual_fuel_cost fuel_type     transmission  \\\n",
       "0         4         NaN                       2050   Regular     Manual 5-spd   \n",
       "1         4         NaN                       1950   Regular     Manual 5-spd   \n",
       "2         8         NaN                       2850   Regular  Automatic 4-spd   \n",
       "3         8         NaN                       2850   Regular     Manual 4-spd   \n",
       "\n",
       "  vehicle_class  \n",
       "0   Two Seaters  \n",
       "1   Two Seaters  \n",
       "2   Two Seaters  \n",
       "3   Two Seaters  "
      ]
     },
     "execution_count": 36,
     "metadata": {},
     "output_type": "execute_result"
    }
   ],
   "source": [
    "file='cars.csv'\n",
    "data5=pd.read_csv(file,nrows=4)\n",
    "data5.head()"
   ]
  },
  {
   "cell_type": "code",
   "execution_count": 37,
   "id": "c9fac68c",
   "metadata": {},
   "outputs": [
    {
     "data": {
      "text/plain": [
       "year                         1984.00\n",
       "city_mpg                       16.00\n",
       "hwy_mpg                        22.75\n",
       "comb_mpg                       18.25\n",
       "cylinder                        6.00\n",
       "drive_type                       NaN\n",
       "expected_annual_fuel_cost    2425.00\n",
       "dtype: float64"
      ]
     },
     "execution_count": 37,
     "metadata": {},
     "output_type": "execute_result"
    }
   ],
   "source": [
    "data5.mean(axis=0,numeric_only=True)"
   ]
  },
  {
   "cell_type": "code",
   "execution_count": 39,
   "id": "a835246e",
   "metadata": {},
   "outputs": [
    {
     "data": {
      "text/html": [
       "<div>\n",
       "<style scoped>\n",
       "    .dataframe tbody tr th:only-of-type {\n",
       "        vertical-align: middle;\n",
       "    }\n",
       "\n",
       "    .dataframe tbody tr th {\n",
       "        vertical-align: top;\n",
       "    }\n",
       "\n",
       "    .dataframe thead th {\n",
       "        text-align: right;\n",
       "    }\n",
       "</style>\n",
       "<table border=\"1\" class=\"dataframe\">\n",
       "  <thead>\n",
       "    <tr style=\"text-align: right;\">\n",
       "      <th></th>\n",
       "      <th>year</th>\n",
       "      <th>make</th>\n",
       "      <th>model</th>\n",
       "      <th>city_mpg</th>\n",
       "      <th>hwy_mpg</th>\n",
       "      <th>comb_mpg</th>\n",
       "      <th>cylinder</th>\n",
       "      <th>drive_type</th>\n",
       "      <th>expected_annual_fuel_cost</th>\n",
       "      <th>fuel_type</th>\n",
       "      <th>transmission</th>\n",
       "      <th>vehicle_class</th>\n",
       "    </tr>\n",
       "  </thead>\n",
       "  <tbody>\n",
       "    <tr>\n",
       "      <th>0</th>\n",
       "      <td>1984</td>\n",
       "      <td>Alfa Romeo</td>\n",
       "      <td>Spider Veloce 2000</td>\n",
       "      <td>18</td>\n",
       "      <td>25</td>\n",
       "      <td>21</td>\n",
       "      <td>4</td>\n",
       "      <td>NaN</td>\n",
       "      <td>2050</td>\n",
       "      <td>Regular</td>\n",
       "      <td>Manual 5-spd</td>\n",
       "      <td>Two Seaters</td>\n",
       "    </tr>\n",
       "    <tr>\n",
       "      <th>1</th>\n",
       "      <td>1984</td>\n",
       "      <td>Bertone</td>\n",
       "      <td>X1/9</td>\n",
       "      <td>20</td>\n",
       "      <td>26</td>\n",
       "      <td>22</td>\n",
       "      <td>4</td>\n",
       "      <td>NaN</td>\n",
       "      <td>1950</td>\n",
       "      <td>Regular</td>\n",
       "      <td>Manual 5-spd</td>\n",
       "      <td>Two Seaters</td>\n",
       "    </tr>\n",
       "    <tr>\n",
       "      <th>2</th>\n",
       "      <td>1984</td>\n",
       "      <td>Chevrolet</td>\n",
       "      <td>Corvette</td>\n",
       "      <td>13</td>\n",
       "      <td>20</td>\n",
       "      <td>15</td>\n",
       "      <td>8</td>\n",
       "      <td>NaN</td>\n",
       "      <td>2850</td>\n",
       "      <td>Regular</td>\n",
       "      <td>Automatic 4-spd</td>\n",
       "      <td>Two Seaters</td>\n",
       "    </tr>\n",
       "    <tr>\n",
       "      <th>3</th>\n",
       "      <td>1984</td>\n",
       "      <td>Chevrolet</td>\n",
       "      <td>Corvette</td>\n",
       "      <td>13</td>\n",
       "      <td>20</td>\n",
       "      <td>15</td>\n",
       "      <td>8</td>\n",
       "      <td>NaN</td>\n",
       "      <td>2850</td>\n",
       "      <td>Regular</td>\n",
       "      <td>Manual 4-spd</td>\n",
       "      <td>Two Seaters</td>\n",
       "    </tr>\n",
       "  </tbody>\n",
       "</table>\n",
       "</div>"
      ],
      "text/plain": [
       "   year        make               model  city_mpg  hwy_mpg  comb_mpg  \\\n",
       "0  1984  Alfa Romeo  Spider Veloce 2000        18       25        21   \n",
       "1  1984     Bertone                X1/9        20       26        22   \n",
       "2  1984   Chevrolet            Corvette        13       20        15   \n",
       "3  1984   Chevrolet            Corvette        13       20        15   \n",
       "\n",
       "   cylinder  drive_type  expected_annual_fuel_cost fuel_type     transmission  \\\n",
       "0         4         NaN                       2050   Regular     Manual 5-spd   \n",
       "1         4         NaN                       1950   Regular     Manual 5-spd   \n",
       "2         8         NaN                       2850   Regular  Automatic 4-spd   \n",
       "3         8         NaN                       2850   Regular     Manual 4-spd   \n",
       "\n",
       "  vehicle_class  \n",
       "0   Two Seaters  \n",
       "1   Two Seaters  \n",
       "2   Two Seaters  \n",
       "3   Two Seaters  "
      ]
     },
     "execution_count": 39,
     "metadata": {},
     "output_type": "execute_result"
    }
   ],
   "source": [
    "#Resumen estadístico con pandas\n",
    "dataframe=pd.DataFrame(data5)\n",
    "dataframe"
   ]
  },
  {
   "cell_type": "code",
   "execution_count": 40,
   "id": "f3c80c38",
   "metadata": {},
   "outputs": [
    {
     "data": {
      "text/html": [
       "<div>\n",
       "<style scoped>\n",
       "    .dataframe tbody tr th:only-of-type {\n",
       "        vertical-align: middle;\n",
       "    }\n",
       "\n",
       "    .dataframe tbody tr th {\n",
       "        vertical-align: top;\n",
       "    }\n",
       "\n",
       "    .dataframe thead th {\n",
       "        text-align: right;\n",
       "    }\n",
       "</style>\n",
       "<table border=\"1\" class=\"dataframe\">\n",
       "  <thead>\n",
       "    <tr style=\"text-align: right;\">\n",
       "      <th></th>\n",
       "      <th>year</th>\n",
       "      <th>city_mpg</th>\n",
       "      <th>hwy_mpg</th>\n",
       "      <th>comb_mpg</th>\n",
       "      <th>cylinder</th>\n",
       "      <th>drive_type</th>\n",
       "      <th>expected_annual_fuel_cost</th>\n",
       "    </tr>\n",
       "  </thead>\n",
       "  <tbody>\n",
       "    <tr>\n",
       "      <th>count</th>\n",
       "      <td>4.0</td>\n",
       "      <td>4.000000</td>\n",
       "      <td>4.000000</td>\n",
       "      <td>4.000000</td>\n",
       "      <td>4.000000</td>\n",
       "      <td>0.0</td>\n",
       "      <td>4.00000</td>\n",
       "    </tr>\n",
       "    <tr>\n",
       "      <th>mean</th>\n",
       "      <td>1984.0</td>\n",
       "      <td>16.000000</td>\n",
       "      <td>22.750000</td>\n",
       "      <td>18.250000</td>\n",
       "      <td>6.000000</td>\n",
       "      <td>NaN</td>\n",
       "      <td>2425.00000</td>\n",
       "    </tr>\n",
       "    <tr>\n",
       "      <th>std</th>\n",
       "      <td>0.0</td>\n",
       "      <td>3.559026</td>\n",
       "      <td>3.201562</td>\n",
       "      <td>3.774917</td>\n",
       "      <td>2.309401</td>\n",
       "      <td>NaN</td>\n",
       "      <td>492.44289</td>\n",
       "    </tr>\n",
       "    <tr>\n",
       "      <th>min</th>\n",
       "      <td>1984.0</td>\n",
       "      <td>13.000000</td>\n",
       "      <td>20.000000</td>\n",
       "      <td>15.000000</td>\n",
       "      <td>4.000000</td>\n",
       "      <td>NaN</td>\n",
       "      <td>1950.00000</td>\n",
       "    </tr>\n",
       "    <tr>\n",
       "      <th>25%</th>\n",
       "      <td>1984.0</td>\n",
       "      <td>13.000000</td>\n",
       "      <td>20.000000</td>\n",
       "      <td>15.000000</td>\n",
       "      <td>4.000000</td>\n",
       "      <td>NaN</td>\n",
       "      <td>2025.00000</td>\n",
       "    </tr>\n",
       "    <tr>\n",
       "      <th>50%</th>\n",
       "      <td>1984.0</td>\n",
       "      <td>15.500000</td>\n",
       "      <td>22.500000</td>\n",
       "      <td>18.000000</td>\n",
       "      <td>6.000000</td>\n",
       "      <td>NaN</td>\n",
       "      <td>2450.00000</td>\n",
       "    </tr>\n",
       "    <tr>\n",
       "      <th>75%</th>\n",
       "      <td>1984.0</td>\n",
       "      <td>18.500000</td>\n",
       "      <td>25.250000</td>\n",
       "      <td>21.250000</td>\n",
       "      <td>8.000000</td>\n",
       "      <td>NaN</td>\n",
       "      <td>2850.00000</td>\n",
       "    </tr>\n",
       "    <tr>\n",
       "      <th>max</th>\n",
       "      <td>1984.0</td>\n",
       "      <td>20.000000</td>\n",
       "      <td>26.000000</td>\n",
       "      <td>22.000000</td>\n",
       "      <td>8.000000</td>\n",
       "      <td>NaN</td>\n",
       "      <td>2850.00000</td>\n",
       "    </tr>\n",
       "  </tbody>\n",
       "</table>\n",
       "</div>"
      ],
      "text/plain": [
       "         year   city_mpg    hwy_mpg   comb_mpg  cylinder  drive_type  \\\n",
       "count     4.0   4.000000   4.000000   4.000000  4.000000         0.0   \n",
       "mean   1984.0  16.000000  22.750000  18.250000  6.000000         NaN   \n",
       "std       0.0   3.559026   3.201562   3.774917  2.309401         NaN   \n",
       "min    1984.0  13.000000  20.000000  15.000000  4.000000         NaN   \n",
       "25%    1984.0  13.000000  20.000000  15.000000  4.000000         NaN   \n",
       "50%    1984.0  15.500000  22.500000  18.000000  6.000000         NaN   \n",
       "75%    1984.0  18.500000  25.250000  21.250000  8.000000         NaN   \n",
       "max    1984.0  20.000000  26.000000  22.000000  8.000000         NaN   \n",
       "\n",
       "       expected_annual_fuel_cost  \n",
       "count                    4.00000  \n",
       "mean                  2425.00000  \n",
       "std                    492.44289  \n",
       "min                   1950.00000  \n",
       "25%                   2025.00000  \n",
       "50%                   2450.00000  \n",
       "75%                   2850.00000  \n",
       "max                   2850.00000  "
      ]
     },
     "execution_count": 40,
     "metadata": {},
     "output_type": "execute_result"
    }
   ],
   "source": [
    "dataframe.describe()"
   ]
  },
  {
   "cell_type": "code",
   "execution_count": 41,
   "id": "e45405a7",
   "metadata": {},
   "outputs": [],
   "source": [
    "import matplotlib.pyplot as plt"
   ]
  },
  {
   "cell_type": "code",
   "execution_count": 44,
   "id": "5efe88b6",
   "metadata": {},
   "outputs": [
    {
     "data": {
      "image/png": "[encoded data removed]",
      "text/plain": [
       "<Figure size 432x288 with 1 Axes>"
      ]
     },
     "metadata": {
      "needs_background": "light"
     },
     "output_type": "display_data"
    }
   ],
   "source": [
    "surveys= pd.read_csv(\"cars.csv\")\n",
    "my_plt=surveys.plot(\"year\",\"expected_annual_fuel_cost\",kind=\"scatter\")\n",
    "plt.show()"
   ]
  },
  {
   "cell_type": "code",
   "execution_count": 45,
   "id": "216cb02e",
   "metadata": {},
   "outputs": [
    {
     "data": {
      "image/png": "[encoded data removed]",
      "text/plain": [
       "<Figure size 432x288 with 1 Axes>"
      ]
     },
     "metadata": {
      "needs_background": "light"
     },
     "output_type": "display_data"
    }
   ],
   "source": [
    "surveys= pd.read_csv(\"cars.csv\")\n",
    "my_plt=surveys.plot(\"year\",\"expected_annual_fuel_cost\",kind=\"hist\")\n",
    "plt.show()"
   ]
  },
  {
   "cell_type": "code",
   "execution_count": null,
   "id": "a5f3c2da",
   "metadata": {},
   "outputs": [],
   "source": []
  }
 ],
 "metadata": {
  "kernelspec": {
   "display_name": "Python 3 (ipykernel)",
   "language": "python",
   "name": "python3"
  },
  "language_info": {
   "codemirror_mode": {
    "name": "ipython",
    "version": 3
   },
   "file_extension": ".py",
   "mimetype": "text/x-python",
   "name": "python",
   "nbconvert_exporter": "python",
   "pygments_lexer": "ipython3",
   "version": "3.9.7"
  }
 },
 "nbformat": 4,
 "nbformat_minor": 5
}
