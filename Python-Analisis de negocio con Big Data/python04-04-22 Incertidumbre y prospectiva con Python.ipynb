{
 "cells": [
  {
   "cell_type": "code",
   "execution_count": 1,
   "id": "6830b1b0",
   "metadata": {},
   "outputs": [],
   "source": [
    "#AR,MA,ARMA,ARIMA,SES y HWES\n",
    "from statsmodels.tsa.ar_model import AR\n",
    "from random import random"
   ]
  },
  {
   "cell_type": "code",
   "execution_count": 13,
   "id": "112c8a65",
   "metadata": {},
   "outputs": [
    {
     "data": {
      "text/plain": [
       "[1.49,\n",
       " 2.46,\n",
       " 3.87,\n",
       " 4.8,\n",
       " 5.55,\n",
       " 6.92,\n",
       " 7.83,\n",
       " 8.07,\n",
       " 9.77,\n",
       " 10.91,\n",
       " 11.34,\n",
       " 12.16,\n",
       " 13.17,\n",
       " 14.21,\n",
       " 15.34,\n",
       " 16.35,\n",
       " 17.29,\n",
       " 18.36,\n",
       " 19.85,\n",
       " 20.81,\n",
       " 21.99,\n",
       " 22.49,\n",
       " 23.05,\n",
       " 24.13,\n",
       " 25.73,\n",
       " 26.86,\n",
       " 27.21,\n",
       " 28.35,\n",
       " 29.76,\n",
       " 30.15,\n",
       " 31.51,\n",
       " 32.34,\n",
       " 33.09,\n",
       " 34.09,\n",
       " 35.41,\n",
       " 36.25,\n",
       " 37.08,\n",
       " 38.37,\n",
       " 39.65,\n",
       " 40.89,\n",
       " 41.72,\n",
       " 42.06,\n",
       " 43.7,\n",
       " 44.97,\n",
       " 45.96,\n",
       " 46.75,\n",
       " 47.6,\n",
       " 48.11,\n",
       " 49.49,\n",
       " 50.51,\n",
       " 51.89,\n",
       " 52.59,\n",
       " 53.42,\n",
       " 54.56,\n",
       " 55.53,\n",
       " 56.42,\n",
       " 57.69,\n",
       " 58.15,\n",
       " 59.11,\n",
       " 60.38,\n",
       " 61.65,\n",
       " 62.23,\n",
       " 63.12,\n",
       " 64.33,\n",
       " 65.37,\n",
       " 66.79,\n",
       " 67.34,\n",
       " 68.81,\n",
       " 69.04,\n",
       " 70.91,\n",
       " 71.26,\n",
       " 72.4,\n",
       " 73.14,\n",
       " 74.09,\n",
       " 75.72,\n",
       " 76.98,\n",
       " 77.15,\n",
       " 78.78,\n",
       " 79.2,\n",
       " 80.53,\n",
       " 81.63,\n",
       " 82.89,\n",
       " 83.44,\n",
       " 84.81,\n",
       " 85.13,\n",
       " 86.05,\n",
       " 87.33,\n",
       " 88.32,\n",
       " 89.59,\n",
       " 90.77,\n",
       " 91.74,\n",
       " 92.99,\n",
       " 93.92,\n",
       " 94.44,\n",
       " 95.01,\n",
       " 96.19,\n",
       " 97.45,\n",
       " 98.68,\n",
       " 99.81]"
      ]
     },
     "execution_count": 13,
     "metadata": {},
     "output_type": "execute_result"
    }
   ],
   "source": [
    "#contrived dataset\n",
    "data=[x+round(random(),2) for x in range(1,100)]\n",
    "data"
   ]
  },
  {
   "cell_type": "code",
   "execution_count": 19,
   "id": "42672aa3",
   "metadata": {},
   "outputs": [],
   "source": [
    "#fit model\n",
    "model=AR(data)\n",
    "model_fit=model.fit()"
   ]
  },
  {
   "cell_type": "code",
   "execution_count": 20,
   "id": "74860089",
   "metadata": {},
   "outputs": [
    {
     "name": "stdout",
     "output_type": "stream",
     "text": [
      "[100.65773944]\n"
     ]
    }
   ],
   "source": [
    "#make prediction\n",
    "yhat=model_fit.predict(len(data),len(data))\n",
    "print(yhat)"
   ]
  },
  {
   "cell_type": "code",
   "execution_count": 21,
   "id": "752c05a0",
   "metadata": {},
   "outputs": [],
   "source": [
    "#MA example\n",
    "from statsmodels.tsa.arima_model import ARMA\n",
    "from random import random"
   ]
  },
  {
   "cell_type": "code",
   "execution_count": 84,
   "id": "29b3ff2f",
   "metadata": {},
   "outputs": [],
   "source": [
    "#contrived dataset\n",
    "data=[x+random() for x in range(1,100)]"
   ]
  },
  {
   "cell_type": "code",
   "execution_count": 87,
   "id": "81494d5f",
   "metadata": {},
   "outputs": [],
   "source": [
    "#fit model\n",
    "model= ARMA(data, order=(0,1))\n",
    "model_fit=model.fit(disp=False)"
   ]
  },
  {
   "cell_type": "code",
   "execution_count": 88,
   "id": "29842c33",
   "metadata": {},
   "outputs": [
    {
     "name": "stdout",
     "output_type": "stream",
     "text": [
      "[76.07258128]\n"
     ]
    }
   ],
   "source": [
    "#make prediction \n",
    "yhat= model_fit.predict(len(data), len(data))\n",
    "print(yhat)"
   ]
  },
  {
   "cell_type": "code",
   "execution_count": 89,
   "id": "2feb3eee",
   "metadata": {},
   "outputs": [],
   "source": [
    "#ARMA example\n",
    "from statsmodels.tsa.arima_model import ARMA\n",
    "from random import random"
   ]
  },
  {
   "cell_type": "code",
   "execution_count": 90,
   "id": "d971b5e4",
   "metadata": {},
   "outputs": [
    {
     "data": {
      "text/plain": [
       "[0.44054501217187336,\n",
       " 0.29186099051022396,\n",
       " 0.21715873227997484,\n",
       " 0.1932870784952222,\n",
       " 0.4284645447204407,\n",
       " 0.07337827338321179,\n",
       " 0.08897748599121647,\n",
       " 0.10792260615017446,\n",
       " 0.5623522478352012,\n",
       " 0.4910979256304564,\n",
       " 0.06569088329022743,\n",
       " 0.027883688605910617,\n",
       " 0.02353935687465525,\n",
       " 0.057567919794532796,\n",
       " 0.09345390353665728,\n",
       " 0.9948625808515131,\n",
       " 0.3163584024599856,\n",
       " 0.6422777013395207,\n",
       " 0.012592882990532073,\n",
       " 0.847004175478789,\n",
       " 0.3742688372208649,\n",
       " 0.15032266549020923,\n",
       " 0.6063658834809781,\n",
       " 0.7766284172035196,\n",
       " 0.799895011697817,\n",
       " 0.01080964006633589,\n",
       " 0.017325725177526508,\n",
       " 0.986562167268642,\n",
       " 0.3391725397118849,\n",
       " 0.6166448167746017,\n",
       " 0.990709219555615,\n",
       " 0.9846383569307782,\n",
       " 0.5690875758551409,\n",
       " 0.5080501048943973,\n",
       " 0.5360896600310502,\n",
       " 0.5760137775243915,\n",
       " 0.5038829384898263,\n",
       " 0.6884453594493988,\n",
       " 0.5065563524627048,\n",
       " 0.706812903951067,\n",
       " 0.6378188470171423,\n",
       " 0.8395111505403876,\n",
       " 0.08737937676349272,\n",
       " 0.9715949239896681,\n",
       " 0.7251694324194418,\n",
       " 0.19213023679361085,\n",
       " 0.8211027371040146,\n",
       " 0.015362352652300348,\n",
       " 0.20492153632641175,\n",
       " 0.08061706993700324,\n",
       " 0.1473762006265874,\n",
       " 0.053916985480785384,\n",
       " 0.6528567996103622,\n",
       " 0.07240194074609829,\n",
       " 0.9354533361832773,\n",
       " 0.019110020715153442,\n",
       " 0.14597145589833704,\n",
       " 0.00908589415997585,\n",
       " 0.5490337492849096,\n",
       " 0.41788676701068894,\n",
       " 0.9252148981831763,\n",
       " 0.5406866428064714,\n",
       " 0.3602797112611167,\n",
       " 0.3634981956060225,\n",
       " 0.4921059775307739,\n",
       " 0.6391822812120709,\n",
       " 0.9951998826189565,\n",
       " 0.8456309892955973,\n",
       " 0.4923591273274909,\n",
       " 0.1545186488544552,\n",
       " 0.5511906513126679,\n",
       " 0.002167841591755315,\n",
       " 0.2872477168550124,\n",
       " 0.1137423340944077,\n",
       " 0.287808448879756,\n",
       " 0.7136997238727897,\n",
       " 0.5263592164748339,\n",
       " 0.506880450576968,\n",
       " 0.695524552026257,\n",
       " 0.3866922403224554,\n",
       " 0.991532088207564,\n",
       " 0.4343337568004336,\n",
       " 0.18927690588934953,\n",
       " 0.7610523691515824,\n",
       " 0.7618056027266067,\n",
       " 0.8699009114639031,\n",
       " 0.597562106583476,\n",
       " 0.5300704751122479,\n",
       " 0.7223009799303866,\n",
       " 0.5299404072034383,\n",
       " 0.8606425466784676,\n",
       " 0.0339487595029061,\n",
       " 0.6136445144861323,\n",
       " 0.08593723707858458,\n",
       " 0.3225866130390379,\n",
       " 0.07581700794485269,\n",
       " 0.017209103779242008,\n",
       " 0.3528551002075695,\n",
       " 0.27716444080870306]"
      ]
     },
     "execution_count": 90,
     "metadata": {},
     "output_type": "execute_result"
    }
   ],
   "source": [
    "#contrived dataset\n",
    "data=[random() for x in range(1,100)]\n",
    "data"
   ]
  },
  {
   "cell_type": "code",
   "execution_count": 91,
   "id": "7efe52d2",
   "metadata": {},
   "outputs": [],
   "source": [
    "#fit model\n",
    "model=ARMA(data, order=(2,1))\n",
    "model_fit=model.fit(disp=False)"
   ]
  },
  {
   "cell_type": "code",
   "execution_count": 92,
   "id": "67fed242",
   "metadata": {},
   "outputs": [
    {
     "name": "stdout",
     "output_type": "stream",
     "text": [
      "[0.40650361]\n"
     ]
    }
   ],
   "source": [
    "#make prediction \n",
    "yhat=model_fit.predict(len(data), len(data))\n",
    "print(yhat)"
   ]
  },
  {
   "cell_type": "code",
   "execution_count": 93,
   "id": "9a792515",
   "metadata": {},
   "outputs": [],
   "source": [
    "#ARIMA example\n",
    "from statsmodels.tsa.arima_model import ARIMA\n",
    "from random import random"
   ]
  },
  {
   "cell_type": "code",
   "execution_count": 94,
   "id": "1acfb728",
   "metadata": {},
   "outputs": [],
   "source": [
    "#ARIMA example\n",
    "from statsmodels.tsa.arima_model import ARIMA\n",
    "from random import random"
   ]
  },
  {
   "cell_type": "code",
   "execution_count": 95,
   "id": "d7734fe0",
   "metadata": {},
   "outputs": [],
   "source": [
    "#contrived dataset\n",
    "data=[x+random() for x in range(1,100)]"
   ]
  },
  {
   "cell_type": "code",
   "execution_count": 96,
   "id": "42264eb3",
   "metadata": {},
   "outputs": [],
   "source": [
    "#fit model\n",
    "model= ARIMA(data,order=(1,1,1))\n",
    "model_fit=model.fit(disp=False)"
   ]
  },
  {
   "cell_type": "code",
   "execution_count": 97,
   "id": "a365bfeb",
   "metadata": {},
   "outputs": [
    {
     "name": "stdout",
     "output_type": "stream",
     "text": [
      "[100.43389274]\n"
     ]
    }
   ],
   "source": [
    "#make prediction\n",
    "yhat=model_fit.predict(len(data),len(data),typ='levels')\n",
    "print(yhat)"
   ]
  },
  {
   "cell_type": "code",
   "execution_count": 98,
   "id": "6b47c07d",
   "metadata": {},
   "outputs": [],
   "source": [
    "#Simple Exponential Smoothing (SES)"
   ]
  },
  {
   "cell_type": "code",
   "execution_count": 99,
   "id": "615fae70",
   "metadata": {},
   "outputs": [],
   "source": [
    "#SEE example\n",
    "from statsmodels.tsa.holtwinters import SimpleExpSmoothing\n",
    "from random import random"
   ]
  },
  {
   "cell_type": "code",
   "execution_count": 100,
   "id": "5b5c42bc",
   "metadata": {},
   "outputs": [],
   "source": [
    "#Contrived dataset\n",
    "data=[x+random() for x in range(1,100)]"
   ]
  },
  {
   "cell_type": "code",
   "execution_count": 101,
   "id": "21961970",
   "metadata": {},
   "outputs": [],
   "source": [
    "#Fit model\n",
    "model= SimpleExpSmoothing(data)\n",
    "model_fit=model.fit()"
   ]
  },
  {
   "cell_type": "code",
   "execution_count": 102,
   "id": "746559f5",
   "metadata": {},
   "outputs": [
    {
     "name": "stdout",
     "output_type": "stream",
     "text": [
      "[99.85824588]\n"
     ]
    }
   ],
   "source": [
    "#make prediction\n",
    "yhat= model_fit.predict(len(data),len(data))\n",
    "print(yhat)"
   ]
  },
  {
   "cell_type": "code",
   "execution_count": 107,
   "id": "8b079b70",
   "metadata": {},
   "outputs": [],
   "source": [
    "#Hold Winter's Exponential Smoothing (HWES)"
   ]
  },
  {
   "cell_type": "code",
   "execution_count": 111,
   "id": "1d0841b5",
   "metadata": {},
   "outputs": [],
   "source": [
    "#HWES example\n",
    "from statsmodels.tsa.holtwinters import ExponentialSmoothing\n",
    "from random import random"
   ]
  },
  {
   "cell_type": "code",
   "execution_count": 112,
   "id": "0fb3e07e",
   "metadata": {},
   "outputs": [],
   "source": [
    "#Contrived data set\n",
    "data=[x+random() for x in range(1,100)]"
   ]
  },
  {
   "cell_type": "code",
   "execution_count": 115,
   "id": "0b8c5331",
   "metadata": {},
   "outputs": [],
   "source": [
    "#fit model\n",
    "model=ExponentialSmoothing(data)\n",
    "model_fit=model.fit()"
   ]
  },
  {
   "cell_type": "code",
   "execution_count": 116,
   "id": "37bd6017",
   "metadata": {},
   "outputs": [
    {
     "name": "stdout",
     "output_type": "stream",
     "text": [
      "[99.77571498]\n"
     ]
    }
   ],
   "source": [
    "#make prediction\n",
    "yhat=model_fit.predict(len(data),len(data))\n",
    "print(yhat)"
   ]
  },
  {
   "cell_type": "code",
   "execution_count": 1,
   "id": "53bc9917",
   "metadata": {},
   "outputs": [],
   "source": [
    "#Media movil\n",
    "import numpy as np\n",
    "def moving_average(a,n=3):\n",
    "    ret=np.cumsum(a,dtype=float)\n",
    "    ret[n:]=ret[n:]-ret[:-n]\n",
    "    return ret[n-1:]/n"
   ]
  },
  {
   "cell_type": "code",
   "execution_count": 2,
   "id": "63f9c70d",
   "metadata": {},
   "outputs": [],
   "source": [
    "a=np.arange(20)"
   ]
  },
  {
   "cell_type": "code",
   "execution_count": 3,
   "id": "aa86acd2",
   "metadata": {},
   "outputs": [
    {
     "data": {
      "text/plain": [
       "array([ 1.,  2.,  3.,  4.,  5.,  6.,  7.,  8.,  9., 10., 11., 12., 13.,\n",
       "       14., 15., 16., 17., 18.])"
      ]
     },
     "execution_count": 3,
     "metadata": {},
     "output_type": "execute_result"
    }
   ],
   "source": [
    "moving_average(a)"
   ]
  },
  {
   "cell_type": "code",
   "execution_count": 4,
   "id": "5af42cf9",
   "metadata": {},
   "outputs": [
    {
     "data": {
      "text/plain": [
       "array([ 1.5,  2.5,  3.5,  4.5,  5.5,  6.5,  7.5,  8.5,  9.5, 10.5, 11.5,\n",
       "       12.5, 13.5, 14.5, 15.5, 16.5, 17.5])"
      ]
     },
     "execution_count": 4,
     "metadata": {},
     "output_type": "execute_result"
    }
   ],
   "source": [
    "moving_average(a,n=4)"
   ]
  },
  {
   "cell_type": "code",
   "execution_count": 5,
   "id": "3cbe44eb",
   "metadata": {},
   "outputs": [
    {
     "data": {
      "text/plain": [
       "array([ 2.,  3.,  4.,  5.,  6.,  7.,  8.,  9., 10., 11., 12., 13., 14.,\n",
       "       15., 16., 17.])"
      ]
     },
     "execution_count": 5,
     "metadata": {},
     "output_type": "execute_result"
    }
   ],
   "source": [
    "moving_average(a,n=5)"
   ]
  },
  {
   "cell_type": "code",
   "execution_count": 3,
   "id": "6032211d",
   "metadata": {},
   "outputs": [],
   "source": [
    "#Suavizado exponencial simple con media movil\n",
    "import pandas as pd\n",
    "from pandas_datareader import data as pdr\n",
    "import numpy as np\n",
    "import datetime as date\n",
    "import matplotlib.pyplot as plt"
   ]
  },
  {
   "cell_type": "code",
   "execution_count": 4,
   "id": "543cf4e7",
   "metadata": {},
   "outputs": [],
   "source": [
    "enddate=date.datetime(2019,3,31)\n",
    "startdate=date.datetime(2019,3,1)\n",
    "tick='^MXX'\n",
    "ipc=pdr.get_data_yahoo(tick,start=startdate,end=enddate)"
   ]
  },
  {
   "cell_type": "code",
   "execution_count": 5,
   "id": "d5ae8c30",
   "metadata": {},
   "outputs": [
    {
     "data": {
      "text/html": [
       "<div>\n",
       "<style scoped>\n",
       "    .dataframe tbody tr th:only-of-type {\n",
       "        vertical-align: middle;\n",
       "    }\n",
       "\n",
       "    .dataframe tbody tr th {\n",
       "        vertical-align: top;\n",
       "    }\n",
       "\n",
       "    .dataframe thead th {\n",
       "        text-align: right;\n",
       "    }\n",
       "</style>\n",
       "<table border=\"1\" class=\"dataframe\">\n",
       "  <thead>\n",
       "    <tr style=\"text-align: right;\">\n",
       "      <th></th>\n",
       "      <th>High</th>\n",
       "      <th>Low</th>\n",
       "      <th>Open</th>\n",
       "      <th>Close</th>\n",
       "      <th>Volume</th>\n",
       "      <th>Adj Close</th>\n",
       "    </tr>\n",
       "    <tr>\n",
       "      <th>Date</th>\n",
       "      <th></th>\n",
       "      <th></th>\n",
       "      <th></th>\n",
       "      <th></th>\n",
       "      <th></th>\n",
       "      <th></th>\n",
       "    </tr>\n",
       "  </thead>\n",
       "  <tbody>\n",
       "    <tr>\n",
       "      <th>2019-03-01</th>\n",
       "      <td>43021.910156</td>\n",
       "      <td>42291.941406</td>\n",
       "      <td>42947.710938</td>\n",
       "      <td>42619.230469</td>\n",
       "      <td>125346700</td>\n",
       "      <td>42619.230469</td>\n",
       "    </tr>\n",
       "    <tr>\n",
       "      <th>2019-03-04</th>\n",
       "      <td>42648.699219</td>\n",
       "      <td>42197.871094</td>\n",
       "      <td>42598.191406</td>\n",
       "      <td>42418.488281</td>\n",
       "      <td>110675000</td>\n",
       "      <td>42418.488281</td>\n",
       "    </tr>\n",
       "    <tr>\n",
       "      <th>2019-03-05</th>\n",
       "      <td>42425.089844</td>\n",
       "      <td>42099.859375</td>\n",
       "      <td>42367.921875</td>\n",
       "      <td>42128.910156</td>\n",
       "      <td>126793500</td>\n",
       "      <td>42128.910156</td>\n",
       "    </tr>\n",
       "    <tr>\n",
       "      <th>2019-03-06</th>\n",
       "      <td>42419.230469</td>\n",
       "      <td>41859.218750</td>\n",
       "      <td>42134.460938</td>\n",
       "      <td>41908.148438</td>\n",
       "      <td>146751000</td>\n",
       "      <td>41908.148438</td>\n",
       "    </tr>\n",
       "    <tr>\n",
       "      <th>2019-03-07</th>\n",
       "      <td>42008.468750</td>\n",
       "      <td>41523.921875</td>\n",
       "      <td>41911.531250</td>\n",
       "      <td>41641.839844</td>\n",
       "      <td>143660500</td>\n",
       "      <td>41641.839844</td>\n",
       "    </tr>\n",
       "  </tbody>\n",
       "</table>\n",
       "</div>"
      ],
      "text/plain": [
       "                    High           Low          Open         Close     Volume  \\\n",
       "Date                                                                            \n",
       "2019-03-01  43021.910156  42291.941406  42947.710938  42619.230469  125346700   \n",
       "2019-03-04  42648.699219  42197.871094  42598.191406  42418.488281  110675000   \n",
       "2019-03-05  42425.089844  42099.859375  42367.921875  42128.910156  126793500   \n",
       "2019-03-06  42419.230469  41859.218750  42134.460938  41908.148438  146751000   \n",
       "2019-03-07  42008.468750  41523.921875  41911.531250  41641.839844  143660500   \n",
       "\n",
       "               Adj Close  \n",
       "Date                      \n",
       "2019-03-01  42619.230469  \n",
       "2019-03-04  42418.488281  \n",
       "2019-03-05  42128.910156  \n",
       "2019-03-06  41908.148438  \n",
       "2019-03-07  41641.839844  "
      ]
     },
     "execution_count": 5,
     "metadata": {},
     "output_type": "execute_result"
    }
   ],
   "source": [
    "ipc.head()"
   ]
  },
  {
   "cell_type": "code",
   "execution_count": 6,
   "id": "d232c909",
   "metadata": {},
   "outputs": [],
   "source": [
    "def MA(df,n):\n",
    "    MA=pd.Series(pd.Series.rolling(df['Close'],n).mean(),name='MA_'+str(n))\n",
    "    df=df.join(MA)\n",
    "    return df"
   ]
  },
  {
   "cell_type": "code",
   "execution_count": 8,
   "id": "98102c91",
   "metadata": {},
   "outputs": [],
   "source": [
    "ma_5=MA(ipc,5)"
   ]
  },
  {
   "cell_type": "code",
   "execution_count": 9,
   "id": "72d91c94",
   "metadata": {},
   "outputs": [
    {
     "data": {
      "text/html": [
       "<div>\n",
       "<style scoped>\n",
       "    .dataframe tbody tr th:only-of-type {\n",
       "        vertical-align: middle;\n",
       "    }\n",
       "\n",
       "    .dataframe tbody tr th {\n",
       "        vertical-align: top;\n",
       "    }\n",
       "\n",
       "    .dataframe thead th {\n",
       "        text-align: right;\n",
       "    }\n",
       "</style>\n",
       "<table border=\"1\" class=\"dataframe\">\n",
       "  <thead>\n",
       "    <tr style=\"text-align: right;\">\n",
       "      <th></th>\n",
       "      <th>High</th>\n",
       "      <th>Low</th>\n",
       "      <th>Open</th>\n",
       "      <th>Close</th>\n",
       "      <th>Volume</th>\n",
       "      <th>Adj Close</th>\n",
       "      <th>MA_5</th>\n",
       "    </tr>\n",
       "    <tr>\n",
       "      <th>Date</th>\n",
       "      <th></th>\n",
       "      <th></th>\n",
       "      <th></th>\n",
       "      <th></th>\n",
       "      <th></th>\n",
       "      <th></th>\n",
       "      <th></th>\n",
       "    </tr>\n",
       "  </thead>\n",
       "  <tbody>\n",
       "    <tr>\n",
       "      <th>2019-03-01</th>\n",
       "      <td>43021.910156</td>\n",
       "      <td>42291.941406</td>\n",
       "      <td>42947.710938</td>\n",
       "      <td>42619.230469</td>\n",
       "      <td>125346700</td>\n",
       "      <td>42619.230469</td>\n",
       "      <td>NaN</td>\n",
       "    </tr>\n",
       "    <tr>\n",
       "      <th>2019-03-04</th>\n",
       "      <td>42648.699219</td>\n",
       "      <td>42197.871094</td>\n",
       "      <td>42598.191406</td>\n",
       "      <td>42418.488281</td>\n",
       "      <td>110675000</td>\n",
       "      <td>42418.488281</td>\n",
       "      <td>NaN</td>\n",
       "    </tr>\n",
       "    <tr>\n",
       "      <th>2019-03-05</th>\n",
       "      <td>42425.089844</td>\n",
       "      <td>42099.859375</td>\n",
       "      <td>42367.921875</td>\n",
       "      <td>42128.910156</td>\n",
       "      <td>126793500</td>\n",
       "      <td>42128.910156</td>\n",
       "      <td>NaN</td>\n",
       "    </tr>\n",
       "    <tr>\n",
       "      <th>2019-03-06</th>\n",
       "      <td>42419.230469</td>\n",
       "      <td>41859.218750</td>\n",
       "      <td>42134.460938</td>\n",
       "      <td>41908.148438</td>\n",
       "      <td>146751000</td>\n",
       "      <td>41908.148438</td>\n",
       "      <td>NaN</td>\n",
       "    </tr>\n",
       "    <tr>\n",
       "      <th>2019-03-07</th>\n",
       "      <td>42008.468750</td>\n",
       "      <td>41523.921875</td>\n",
       "      <td>41911.531250</td>\n",
       "      <td>41641.839844</td>\n",
       "      <td>143660500</td>\n",
       "      <td>41641.839844</td>\n",
       "      <td>42143.323438</td>\n",
       "    </tr>\n",
       "  </tbody>\n",
       "</table>\n",
       "</div>"
      ],
      "text/plain": [
       "                    High           Low          Open         Close     Volume  \\\n",
       "Date                                                                            \n",
       "2019-03-01  43021.910156  42291.941406  42947.710938  42619.230469  125346700   \n",
       "2019-03-04  42648.699219  42197.871094  42598.191406  42418.488281  110675000   \n",
       "2019-03-05  42425.089844  42099.859375  42367.921875  42128.910156  126793500   \n",
       "2019-03-06  42419.230469  41859.218750  42134.460938  41908.148438  146751000   \n",
       "2019-03-07  42008.468750  41523.921875  41911.531250  41641.839844  143660500   \n",
       "\n",
       "               Adj Close          MA_5  \n",
       "Date                                    \n",
       "2019-03-01  42619.230469           NaN  \n",
       "2019-03-04  42418.488281           NaN  \n",
       "2019-03-05  42128.910156           NaN  \n",
       "2019-03-06  41908.148438           NaN  \n",
       "2019-03-07  41641.839844  42143.323438  "
      ]
     },
     "execution_count": 9,
     "metadata": {},
     "output_type": "execute_result"
    }
   ],
   "source": [
    "ma_5.head()"
   ]
  },
  {
   "cell_type": "code",
   "execution_count": 10,
   "id": "e0dfb8a6",
   "metadata": {},
   "outputs": [
    {
     "data": {
      "text/plain": [
       "<AxesSubplot:xlabel='Date'>"
      ]
     },
     "execution_count": 10,
     "metadata": {},
     "output_type": "execute_result"
    },
    {
     "data": {
      "image/png": "[encoded data removed]",
      "text/plain": [
       "<Figure size 432x288 with 1 Axes>"
      ]
     },
     "metadata": {
      "needs_background": "light"
     },
     "output_type": "display_data"
    }
   ],
   "source": [
    "%matplotlib inline\n",
    "ipc.Close.plot()"
   ]
  },
  {
   "cell_type": "code",
   "execution_count": 11,
   "id": "6ff410e2",
   "metadata": {},
   "outputs": [],
   "source": [
    "df=ma_5[['Close','MA_5']]"
   ]
  },
  {
   "cell_type": "code",
   "execution_count": 12,
   "id": "34f89b72",
   "metadata": {},
   "outputs": [
    {
     "data": {
      "text/plain": [
       "<AxesSubplot:xlabel='Date'>"
      ]
     },
     "execution_count": 12,
     "metadata": {},
     "output_type": "execute_result"
    },
    {
     "data": {
      "image/png": "[encoded data removed]",
      "text/plain": [
       "<Figure size 1152x576 with 1 Axes>"
      ]
     },
     "metadata": {
      "needs_background": "light"
     },
     "output_type": "display_data"
    }
   ],
   "source": [
    "df.plot(figsize=(16,8))"
   ]
  },
  {
   "cell_type": "code",
   "execution_count": 25,
   "id": "f00cf3b0",
   "metadata": {},
   "outputs": [],
   "source": [
    "#Minimos cuadrados\n",
    "#IMPORTANDO MÓDULOS NECESARIOS\n",
    "import matplotlib.pyplot as plt\n",
    "import numpy as np\n",
    "from scipy import optimize\n",
    "import cvxopt\n",
    "import pulp\n",
    "from pyomo.environ import *\n",
    "from pyomo.opt import SolverFactory\n",
    "import pyomo.environ\n",
    "np.random.seed(1984) "
   ]
  },
  {
   "cell_type": "code",
   "execution_count": 26,
   "id": "d4983ded",
   "metadata": {},
   "outputs": [],
   "source": [
    "%matplotlib inline"
   ]
  },
  {
   "cell_type": "code",
   "execution_count": 27,
   "id": "8c4868e4",
   "metadata": {},
   "outputs": [],
   "source": [
    "#Ejemplo minimos cuadrados no lineales utilizando scipy.optimize\n",
    "beta=(0.25,0.75,0.5)\n",
    "\n",
    "#funcion modelo\n",
    "def f(x,b0,b1,b2):\n",
    "    return b0+b1*np.exp(-b2*x**2)"
   ]
  },
  {
   "cell_type": "code",
   "execution_count": 28,
   "id": "1480875e",
   "metadata": {},
   "outputs": [],
   "source": [
    "#datos aleatorios para simular las observaciones\n",
    "xdata=np.linspace(0,5,50)\n",
    "y= f(xdata,*beta)\n",
    "ydata=y+0.05*np.random.randn(len(xdata))"
   ]
  },
  {
   "cell_type": "code",
   "execution_count": 31,
   "id": "8aa048fc",
   "metadata": {},
   "outputs": [],
   "source": [
    "#funcion residual\n",
    "def g(beta):\n",
    "    return ydata - f(xdata,*beta)"
   ]
  },
  {
   "cell_type": "code",
   "execution_count": 32,
   "id": "7c4ed7ee",
   "metadata": {},
   "outputs": [
    {
     "data": {
      "text/plain": [
       "array([0.24022514, 0.76030423, 0.48425909])"
      ]
     },
     "execution_count": 32,
     "metadata": {},
     "output_type": "execute_result"
    }
   ],
   "source": [
    "#comenzamos la optimización\n",
    "beta_start=(1,1,1)\n",
    "beta_opt,beta_cov=optimize.leastsq(g,beta_start)\n",
    "beta_opt"
   ]
  },
  {
   "cell_type": "code",
   "execution_count": 36,
   "id": "93e5f853",
   "metadata": {},
   "outputs": [
    {
     "data": {
      "image/png": "[encoded data removed]",
      "text/plain": [
       "<Figure size 720x576 with 1 Axes>"
      ]
     },
     "metadata": {
      "needs_background": "light"
     },
     "output_type": "display_data"
    }
   ],
   "source": [
    "#graficamos\n",
    "fig, ax=plt.subplots(figsize=(10,8))\n",
    "ax.scatter(xdata,ydata)\n",
    "ax.plot(xdata,y,'r',lw=2)\n",
    "ax.plot(xdata, f(xdata,*beta_opt),'b',lw=2)\n",
    "ax.set_xlim(0,5)\n",
    "ax.set_xlabel(r\"$x$\",fontsize=18)\n",
    "ax.set_ylabel(r\"$f(x,\\beta)$\",fontsize=18)\n",
    "ax.set_title('Minimos cuadrados no lineales')\n",
    "plt.show()"
   ]
  },
  {
   "cell_type": "code",
   "execution_count": null,
   "id": "aca33c35",
   "metadata": {},
   "outputs": [],
   "source": []
  }
 ],
 "metadata": {
  "kernelspec": {
   "display_name": "Python 3 (ipykernel)",
   "language": "python",
   "name": "python3"
  },
  "language_info": {
   "codemirror_mode": {
    "name": "ipython",
    "version": 3
   },
   "file_extension": ".py",
   "mimetype": "text/x-python",
   "name": "python",
   "nbconvert_exporter": "python",
   "pygments_lexer": "ipython3",
   "version": "3.9.7"
  }
 },
 "nbformat": 4,
 "nbformat_minor": 5
}
