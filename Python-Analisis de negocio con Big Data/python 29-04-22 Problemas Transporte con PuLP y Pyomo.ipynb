{
 "cells": [
  {
   "cell_type": "code",
   "execution_count": 1,
   "id": "0f07d658",
   "metadata": {},
   "outputs": [],
   "source": [
    "#Problema transporte con PulP"
   ]
  },
  {
   "cell_type": "code",
   "execution_count": 2,
   "id": "937d833b",
   "metadata": {},
   "outputs": [],
   "source": [
    "#Problema transporte con PulP\n",
    "import matplotlib.pyplot as plt\n",
    "import numpy as np\n",
    "from scipy import optimize\n",
    "import cvxopt\n",
    "import pulp\n",
    "from pyomo.environ import *\n",
    "from pyomo.opt import SolverFactory\n",
    "import pyomo.environ\n",
    "from cvxopt import glpk"
   ]
  },
  {
   "cell_type": "code",
   "execution_count": 4,
   "id": "6c9f286b",
   "metadata": {},
   "outputs": [],
   "source": [
    "# Ejemplo del problema de transporte de las cervezas utilizando PuLP\n",
    "# Creamos la variable prob que contiene los datos del problema\n",
    "prob = pulp.LpProblem(\"Problema de distribución de cerveza\", pulp.LpMinimize)"
   ]
  },
  {
   "cell_type": "code",
   "execution_count": 5,
   "id": "ee94e701",
   "metadata": {},
   "outputs": [],
   "source": [
    "# Creamos lista de cervecerías o nodos de oferta\n",
    "cervecerias = [\"Cervecería A\", \"Cervercería B\"]\n",
    "\n",
    "# diccionario con la capacidad de oferta de cada cerveceria\n",
    "oferta = {\"Cervecería A\": 1000,\n",
    "          \"Cervercería B\": 4000}\n",
    "\n",
    "# Creamos la lista de los bares o nodos de demanda\n",
    "bares = [\"Bar 1\", \"Bar 2\", \"Bar 3\", \"Bar 4\", \"Bar 5\"]\n",
    "\n",
    "# diccionario con la capacidad de demanda de cada bar\n",
    "demanda = {\"Bar 1\":500,\n",
    "           \"Bar 2\":900,\n",
    "           \"Bar 3\":1800,\n",
    "           \"Bar 4\":200,\n",
    "           \"Bar 5\":700,}\n",
    "\n",
    "# Lista con los costos de transporte de cada nodo\n",
    "costos = [   #Bares\n",
    "         #1 2 3 4 5\n",
    "         [2,4,5,2,1],#A   Cervecerías\n",
    "         [3,1,3,2,3] #B\n",
    "         ]\n",
    "\n",
    "# Convertimos los costos en un diccionario de PuLP\n",
    "costos = pulp.makeDict([cervecerias, bares], costos,0)\n",
    "\n",
    "# Creamos una lista de tuplas que contiene todas las posibles rutas de tranporte.\n",
    "rutas = [(c,b) for c in cervecerias for b in bares]"
   ]
  },
  {
   "cell_type": "code",
   "execution_count": 6,
   "id": "f9957b53",
   "metadata": {},
   "outputs": [
    {
     "ename": "PulpSolverError",
     "evalue": "PuLP: Error while executing glpsol.exe",
     "output_type": "error",
     "traceback": [
      "\u001b[1;31m---------------------------------------------------------------------------\u001b[0m",
      "\u001b[1;31mPulpSolverError\u001b[0m                           Traceback (most recent call last)",
      "\u001b[1;32m~\\AppData\\Local\\Temp/ipykernel_1964/3603352492.py\u001b[0m in \u001b[0;36m<module>\u001b[1;34m\u001b[0m\n\u001b[0;32m     22\u001b[0m \u001b[1;33m\u001b[0m\u001b[0m\n\u001b[0;32m     23\u001b[0m \u001b[1;31m# Resolviendo el problema.\u001b[0m\u001b[1;33m\u001b[0m\u001b[1;33m\u001b[0m\u001b[0m\n\u001b[1;32m---> 24\u001b[1;33m \u001b[0mprob\u001b[0m\u001b[1;33m.\u001b[0m\u001b[0msolve\u001b[0m\u001b[1;33m(\u001b[0m\u001b[1;33m)\u001b[0m\u001b[1;33m\u001b[0m\u001b[1;33m\u001b[0m\u001b[0m\n\u001b[0m\u001b[0;32m     25\u001b[0m \u001b[1;33m\u001b[0m\u001b[0m\n\u001b[0;32m     26\u001b[0m \u001b[1;31m# Imprimimos el estado del problema.\u001b[0m\u001b[1;33m\u001b[0m\u001b[1;33m\u001b[0m\u001b[0m\n",
      "\u001b[1;32m~\\anaconda3\\lib\\site-packages\\pulp\\pulp.py\u001b[0m in \u001b[0;36msolve\u001b[1;34m(self, solver, **kwargs)\u001b[0m\n\u001b[0;32m   1911\u001b[0m         \u001b[1;31m# time it\u001b[0m\u001b[1;33m\u001b[0m\u001b[1;33m\u001b[0m\u001b[0m\n\u001b[0;32m   1912\u001b[0m         \u001b[0mself\u001b[0m\u001b[1;33m.\u001b[0m\u001b[0mstartClock\u001b[0m\u001b[1;33m(\u001b[0m\u001b[1;33m)\u001b[0m\u001b[1;33m\u001b[0m\u001b[1;33m\u001b[0m\u001b[0m\n\u001b[1;32m-> 1913\u001b[1;33m         \u001b[0mstatus\u001b[0m \u001b[1;33m=\u001b[0m \u001b[0msolver\u001b[0m\u001b[1;33m.\u001b[0m\u001b[0mactualSolve\u001b[0m\u001b[1;33m(\u001b[0m\u001b[0mself\u001b[0m\u001b[1;33m,\u001b[0m \u001b[1;33m**\u001b[0m\u001b[0mkwargs\u001b[0m\u001b[1;33m)\u001b[0m\u001b[1;33m\u001b[0m\u001b[1;33m\u001b[0m\u001b[0m\n\u001b[0m\u001b[0;32m   1914\u001b[0m         \u001b[0mself\u001b[0m\u001b[1;33m.\u001b[0m\u001b[0mstopClock\u001b[0m\u001b[1;33m(\u001b[0m\u001b[1;33m)\u001b[0m\u001b[1;33m\u001b[0m\u001b[1;33m\u001b[0m\u001b[0m\n\u001b[0;32m   1915\u001b[0m         \u001b[0mself\u001b[0m\u001b[1;33m.\u001b[0m\u001b[0mrestoreObjective\u001b[0m\u001b[1;33m(\u001b[0m\u001b[0mwasNone\u001b[0m\u001b[1;33m,\u001b[0m \u001b[0mdummyVar\u001b[0m\u001b[1;33m)\u001b[0m\u001b[1;33m\u001b[0m\u001b[1;33m\u001b[0m\u001b[0m\n",
      "\u001b[1;32m~\\anaconda3\\lib\\site-packages\\pulp\\apis\\glpk_api.py\u001b[0m in \u001b[0;36mactualSolve\u001b[1;34m(self, lp)\u001b[0m\n\u001b[0;32m    113\u001b[0m \u001b[1;33m\u001b[0m\u001b[0m\n\u001b[0;32m    114\u001b[0m         \u001b[1;32mif\u001b[0m \u001b[1;32mnot\u001b[0m \u001b[0mos\u001b[0m\u001b[1;33m.\u001b[0m\u001b[0mpath\u001b[0m\u001b[1;33m.\u001b[0m\u001b[0mexists\u001b[0m\u001b[1;33m(\u001b[0m\u001b[0mtmpSol\u001b[0m\u001b[1;33m)\u001b[0m\u001b[1;33m:\u001b[0m\u001b[1;33m\u001b[0m\u001b[1;33m\u001b[0m\u001b[0m\n\u001b[1;32m--> 115\u001b[1;33m             \u001b[1;32mraise\u001b[0m \u001b[0mPulpSolverError\u001b[0m\u001b[1;33m(\u001b[0m\u001b[1;34m\"PuLP: Error while executing \"\u001b[0m \u001b[1;33m+\u001b[0m \u001b[0mself\u001b[0m\u001b[1;33m.\u001b[0m\u001b[0mpath\u001b[0m\u001b[1;33m)\u001b[0m\u001b[1;33m\u001b[0m\u001b[1;33m\u001b[0m\u001b[0m\n\u001b[0m\u001b[0;32m    116\u001b[0m         \u001b[0mstatus\u001b[0m\u001b[1;33m,\u001b[0m \u001b[0mvalues\u001b[0m \u001b[1;33m=\u001b[0m \u001b[0mself\u001b[0m\u001b[1;33m.\u001b[0m\u001b[0mreadsol\u001b[0m\u001b[1;33m(\u001b[0m\u001b[0mtmpSol\u001b[0m\u001b[1;33m)\u001b[0m\u001b[1;33m\u001b[0m\u001b[1;33m\u001b[0m\u001b[0m\n\u001b[0;32m    117\u001b[0m         \u001b[0mlp\u001b[0m\u001b[1;33m.\u001b[0m\u001b[0massignVarsVals\u001b[0m\u001b[1;33m(\u001b[0m\u001b[0mvalues\u001b[0m\u001b[1;33m)\u001b[0m\u001b[1;33m\u001b[0m\u001b[1;33m\u001b[0m\u001b[0m\n",
      "\u001b[1;31mPulpSolverError\u001b[0m: PuLP: Error while executing glpsol.exe"
     ]
    }
   ],
   "source": [
    "# creamos diccionario x que contendrá la candidad enviada en las rutas\n",
    "x = pulp.LpVariable.dicts(\"ruta\", (cervecerias, bares), \n",
    "                          lowBound = 0,\n",
    "                          cat = pulp.LpInteger)\n",
    "\n",
    "# Agregamos la función objetivo al problema\n",
    "prob += sum([x[c][b]*costos[c][b] for (c,b) in rutas]), \\\n",
    "\"Suma_de_costos_de_transporte\"\n",
    "\n",
    "# Agregamos la restricción de máxima oferta de cada cervecería al problema.\n",
    "for c in cervecerias:\n",
    "    prob += sum([x[c][b] for b in bares]) <= oferta[c], \\\n",
    "    \"Suma_de_Productos_que_salen_de_cervecerias_%s\"%c\n",
    "\n",
    "# Agregamos la restricción de demanda mínima de cada bar\n",
    "for b in bares:\n",
    "    prob += sum([x[c][b] for c in cervecerias]) >= demanda[b], \\\n",
    "    \"Sum_of_Products_into_Bar%s\"%b\n",
    "                   \n",
    "# Los datos del problema son exportado a archivo .lp\n",
    "prob.writeLP(\"problemaDeTransporte.lp\")\n",
    "\n",
    "# Resolviendo el problema.\n",
    "prob.solve()\n",
    "\n",
    "# Imprimimos el estado del problema.\n",
    "print(\"Status: {}\".format(pulp.LpStatus[prob.status]))\n",
    "\n",
    "# Imprimimos cada variable con su solución óptima.\n",
    "for v in prob.variables():\n",
    "    print(\"{0:} = {1:}\".format(v.name, v.varValue))\n",
    "\n",
    "# Imprimimos el valor óptimo de la función objetivo   \n",
    "print(\"Costo total de transporte = {}\".format(prob.objective.value()))"
   ]
  },
  {
   "cell_type": "code",
   "execution_count": 7,
   "id": "ac48ac1a",
   "metadata": {},
   "outputs": [],
   "source": [
    "#Problema transporte con Pyomo"
   ]
  },
  {
   "cell_type": "code",
   "execution_count": 3,
   "id": "55133f70",
   "metadata": {},
   "outputs": [],
   "source": [
    "# Ejemplo del problema de transporte de las cervezas utilizando Pyomo\n",
    "# Creamos el modelo\n",
    "modelo = ConcreteModel()\n",
    "\n",
    "# Creamos los nodos de oferta y demanda\n",
    "modelo.i = Set(initialize=['Cervecería A',\n",
    "                           'Cervecería B'],\n",
    "               doc='Cervecerías')\n",
    "modelo.j = Set(initialize=['Bar 1', 'Bar 2', 'Bar 3', 'Bar 4', 'Bar 5'],\n",
    "               doc='Bares')\n",
    "\n",
    "# Definimos las capacidades de oferta y demanda\n",
    "modelo.a = Param(modelo.i, initialize={'Cervecería A':1000,'Cervecería B':4000},\n",
    "                 doc='Capacidad de oferta de las cervecerías')\n",
    "modelo.b = Param(modelo.j, initialize={'Bar 1':500,'Bar 2':900,'Bar 3':1800, \n",
    "                                      'Bar 4':200, 'Bar 5':700 },\n",
    "                 doc='Demanda de cada bar')\n",
    "\n",
    "# Costo de transporte\n",
    "costos = {\n",
    "    ('Cervecería A', 'Bar 1'): 2,\n",
    "    ('Cervecería A', 'Bar 2'): 4,\n",
    "    ('Cervecería A', 'Bar 3'): 5,\n",
    "    ('Cervecería A', 'Bar 4'): 2,\n",
    "    ('Cervecería A', 'Bar 5'): 1,\n",
    "    ('Cervecería B', 'Bar 1'): 3,\n",
    "    ('Cervecería B', 'Bar 2'): 1,\n",
    "    ('Cervecería B', 'Bar 3'): 3,\n",
    "    ('Cervecería B', 'Bar 4'): 2,\n",
    "    ('Cervecería B', 'Bar 5'): 3\n",
    "    }\n",
    "modelo.d = Param(modelo.i, modelo.j, initialize=costos, \n",
    "                doc='Costo de transporte')\n",
    "\n",
    "# definimos el costo de tranporte\n",
    "def f_costo(modelo, i, j):\n",
    "    return modelo.d[i,j]\n",
    "modelo.c = Param(modelo.i, modelo.j, initialize=f_costo, \n",
    "                doc='Costo de transporte')\n",
    "\n",
    "# definimos variable x con las cantidades de cajas enviadas\n",
    "modelo.x = Var(modelo.i, modelo.j, bounds=(0.0,None), \n",
    "              doc='Cantidad de cajas')"
   ]
  },
  {
   "cell_type": "code",
   "execution_count": 4,
   "id": "650c65ac",
   "metadata": {},
   "outputs": [],
   "source": [
    "## Definimos las restricciones ##\n",
    "# Límite de oferta\n",
    "def f_oferta(modelo, i):\n",
    "    return sum(modelo.x[i,j] for j in modelo.j) <= modelo.a[i]\n",
    "modelo.oferta = Constraint(modelo.i, rule=f_oferta, \n",
    "                           doc='Límites oferta de cada Cervecería')\n",
    "\n",
    "# Límite de demanda\n",
    "def f_demanda(modelo, j):\n",
    "    return sum(modelo.x[i,j] for i in modelo.i) >= modelo.b[j]  \n",
    "modelo.demanda = Constraint(modelo.j, rule=f_demanda, \n",
    "                            doc='Límites demanda de cada bar')"
   ]
  },
  {
   "cell_type": "code",
   "execution_count": 5,
   "id": "d836666b",
   "metadata": {},
   "outputs": [
    {
     "name": "stdout",
     "output_type": "stream",
     "text": [
      "\n",
      "Solución óptima encontrada\n",
      "--------------------------------------------------------------------------------\n",
      "x : Cantidad de cajas\n",
      "    Size=10, Index=x_index\n",
      "    Key                       : Lower : Value  : Upper : Fixed : Stale : Domain\n",
      "    ('Cervecería A', 'Bar 1') :   0.0 :  300.0 :  None : False : False :  Reals\n",
      "    ('Cervecería A', 'Bar 2') :   0.0 :    0.0 :  None : False : False :  Reals\n",
      "    ('Cervecería A', 'Bar 3') :   0.0 :    0.0 :  None : False : False :  Reals\n",
      "    ('Cervecería A', 'Bar 4') :   0.0 :    0.0 :  None : False : False :  Reals\n",
      "    ('Cervecería A', 'Bar 5') :   0.0 :  700.0 :  None : False : False :  Reals\n",
      "    ('Cervecería B', 'Bar 1') :   0.0 :  200.0 :  None : False : False :  Reals\n",
      "    ('Cervecería B', 'Bar 2') :   0.0 :  900.0 :  None : False : False :  Reals\n",
      "    ('Cervecería B', 'Bar 3') :   0.0 : 1800.0 :  None : False : False :  Reals\n",
      "    ('Cervecería B', 'Bar 4') :   0.0 :  200.0 :  None : False : False :  Reals\n",
      "    ('Cervecería B', 'Bar 5') :   0.0 :    0.0 :  None : False : False :  Reals\n"
     ]
    }
   ],
   "source": [
    "## Definimos la función objetivo y resolvemos el problema ##\n",
    "# Función objetivo\n",
    "def f_objetivo(modelo):\n",
    "    return sum(modelo.c[i,j]*modelo.x[i,j] for i in modelo.i for j in modelo.j)\n",
    "modelo.objetivo = Objective(rule=f_objetivo, sense=minimize, \n",
    "                           doc='Función Objetivo')\n",
    "\n",
    "# resolvemos el problema e imprimimos resultados\n",
    "def pyomo_postprocess(options=None, instance=None, results=None):\n",
    "    modelo.x.display()\n",
    "\n",
    "# utilizamos solver glpk\n",
    "opt = SolverFactory(\"glpk\")\n",
    "resultados = opt.solve(modelo)\n",
    "\n",
    "# imprimimos resultados\n",
    "print(\"\\nSolución óptima encontrada\\n\" + '-'*80)\n",
    "pyomo_postprocess(None, None, resultados)"
   ]
  },
  {
   "cell_type": "code",
   "execution_count": 6,
   "id": "18027510",
   "metadata": {},
   "outputs": [],
   "source": [
    "#Problema transporte con Pyomo - Modelo de transporte estandar - equilibrado"
   ]
  },
  {
   "cell_type": "code",
   "execution_count": 7,
   "id": "a1cd68c1",
   "metadata": {},
   "outputs": [],
   "source": [
    "# Ejemplo del problema de transporte de las Plantas de produccion utilizando Pyomo\n",
    "# Creamos el modelo\n",
    "modelo = ConcreteModel()\n",
    "\n",
    "# Creamos los nodos de oferta y demanda\n",
    "modelo.i = Set(initialize=['Los Angeles','Detroit','Nueva Orleáns'],doc='Origenes')\n",
    "modelo.j = Set(initialize=['Denver','Miami'],doc='Destinos')\n",
    "\n",
    "# Definimos las capacidades de oferta y demanda\n",
    "modelo.a = Param(modelo.i, initialize={'Los Angeles':1000,'Detroit':1500,'Nueva Orleáns':1200},\n",
    "                 doc='Centros de produccion')\n",
    "modelo.b = Param(modelo.j, initialize={'Denver':2300,'Miami':1400},\n",
    "                 doc='Demanda de cada bar')\n",
    "\n",
    "# Costo de transporte\n",
    "costos = {\n",
    "    ('Los Angeles', 'Denver'): 80,\n",
    "    ('Los Angeles', 'Miami'): 215,\n",
    "    ('Detroit', 'Denver'): 100,\n",
    "    ('Detroit', 'Miami'): 108,\n",
    "    ('Nueva Orleáns', 'Denver'): 102,\n",
    "    ('Nueva Orleáns', 'Miami'): 68\n",
    "     }\n",
    "modelo.d = Param(modelo.i, modelo.j, initialize=costos,  doc='Costo de transporte')\n",
    "\n",
    "# definimos el costo de tranporte\n",
    "def f_costo(modelo, i, j):\n",
    "    return modelo.d[i,j]\n",
    "modelo.c = Param(modelo.i, modelo.j, initialize=f_costo, doc='Costo de transporte')\n",
    "\n",
    "# definimos variable x con las cantidades de cajas enviadas\n",
    "modelo.x = Var(modelo.i, modelo.j, bounds=(0.0,None), doc='Cantidad de cajas')"
   ]
  },
  {
   "cell_type": "code",
   "execution_count": 8,
   "id": "dfd34c04",
   "metadata": {},
   "outputs": [],
   "source": [
    "## Definimos las restricciones ##\n",
    "# Límite de oferta\n",
    "def f_oferta(modelo, i):\n",
    "    return sum(modelo.x[i,j] for j in modelo.j) <= modelo.a[i]\n",
    "modelo.oferta = Constraint(modelo.i, rule=f_oferta, \n",
    "                           doc='Límites oferta de cada Planta')\n",
    "\n",
    "# Límite de demanda\n",
    "def f_demanda(modelo, j):\n",
    "    return sum(modelo.x[i,j] for i in modelo.i) >= modelo.b[j]  \n",
    "modelo.demanda = Constraint(modelo.j, rule=f_demanda, \n",
    "                            doc='Límites demanda de cada bar')"
   ]
  },
  {
   "cell_type": "code",
   "execution_count": 9,
   "id": "b02181ed",
   "metadata": {},
   "outputs": [
    {
     "name": "stdout",
     "output_type": "stream",
     "text": [
      "\n",
      "Solución óptima encontrada\n",
      "--------------------------------------------------------------------------------\n",
      "x : Cantidad de cajas\n",
      "    Size=6, Index=x_index\n",
      "    Key                         : Lower : Value  : Upper : Fixed : Stale : Domain\n",
      "          ('Detroit', 'Denver') :   0.0 : 1300.0 :  None : False : False :  Reals\n",
      "           ('Detroit', 'Miami') :   0.0 :  200.0 :  None : False : False :  Reals\n",
      "      ('Los Angeles', 'Denver') :   0.0 : 1000.0 :  None : False : False :  Reals\n",
      "       ('Los Angeles', 'Miami') :   0.0 :    0.0 :  None : False : False :  Reals\n",
      "    ('Nueva Orleáns', 'Denver') :   0.0 :    0.0 :  None : False : False :  Reals\n",
      "     ('Nueva Orleáns', 'Miami') :   0.0 : 1200.0 :  None : False : False :  Reals\n"
     ]
    }
   ],
   "source": [
    "## Definimos la función objetivo y resolvemos el problema ##\n",
    "# Función objetivo\n",
    "def f_objetivo(modelo):\n",
    "    return sum(modelo.c[i,j]*modelo.x[i,j] for i in modelo.i for j in modelo.j)\n",
    "modelo.objetivo = Objective(rule=f_objetivo, sense=minimize, \n",
    "                           doc='Función Objetivo')\n",
    "\n",
    "# resolvemos el problema e imprimimos resultados\n",
    "def pyomo_postprocess(options=None, instance=None, results=None):\n",
    "    modelo.x.display()\n",
    "\n",
    "# utilizamos solver glpk\n",
    "opt = SolverFactory(\"glpk\")\n",
    "resultados = opt.solve(modelo)\n",
    "\n",
    "# imprimimos resultados\n",
    "print(\"\\nSolución óptima encontrada\\n\" + '-'*80)\n",
    "pyomo_postprocess(None, None, resultados)"
   ]
  },
  {
   "cell_type": "code",
   "execution_count": 50,
   "id": "69df5f60",
   "metadata": {},
   "outputs": [],
   "source": [
    "#Problema transporte con PulP - Problema del transporte desequilibrado en oferta_artículos"
   ]
  },
  {
   "cell_type": "code",
   "execution_count": null,
   "id": "b6b20596",
   "metadata": {},
   "outputs": [],
   "source": [
    "#Minimize pulp.LpMinimize"
   ]
  },
  {
   "cell_type": "code",
   "execution_count": null,
   "id": "44f6a2df",
   "metadata": {},
   "outputs": [],
   "source": [
    "# IMPORTANDO MÓDULOS NECESARIOS y TÍPICOS IO\n",
    "import matplotlib.pyplot as plt\n",
    "import numpy as np\n",
    "from scipy import optimize\n",
    "import cvxopt\n",
    "import pulp\n",
    "from pyomo.environ import *\n",
    "from pyomo.opt import SolverFactory\n",
    "import pyomo.environ"
   ]
  },
  {
   "cell_type": "code",
   "execution_count": null,
   "id": "ec439fc6",
   "metadata": {},
   "outputs": [],
   "source": [
    "##Ejemplo del problema de transporte de artículos desequilibrado utilizando PuLP\n",
    "# Creamos la variable prob que contiene los datos del problema\n",
    "prob = pulp.LpProblem(\"Problema de transporte de artículos a mayoristas\", pulp.LpMinimize)"
   ]
  },
  {
   "cell_type": "code",
   "execution_count": 7,
   "id": "900a04cf",
   "metadata": {},
   "outputs": [],
   "source": [
    "# Creamos lista de Plantas de producción o nodos de oferta\n",
    "Plantas = [\"A1\", \"A2\", \"A3\", \"Ficticia\"]\n",
    "# diccionario con la capacidad de oferta de cada Planta de producción\n",
    "oferta = {\"A1\": 1500,\n",
    "          \"A2\": 1500,\n",
    "          \"A3\": 1500,\n",
    "          \"Ficticia\": 200}\n",
    "# Creamos la lista de los Centros de distribución o nodos de demanda\n",
    "Centros = [\"C1\", \"C2\", \"C3\", \"C4\"]\n",
    "# diccionario con la capacidad de demanda de cada Centro de distribución\n",
    "demanda = {\"C1\": 1000,\n",
    "           \"C2\": 1200,\n",
    "           \"C3\": 1500,\n",
    "           \"C4\": 1000}\n",
    "# Lista con los costos de transporte de cada nodo\n",
    "costos = [ #Centros de distribución\n",
    "    # C1 C2 C3 C4\n",
    "    [30, 10, 25, 20],# Planta A1\n",
    "    [15, 25, 30, 10], # Planta A2\n",
    "    [20, 30, 15, 20], # Planta A3\n",
    "    [0, 0, 0, 0] # Planta Ficticia\n",
    "]"
   ]
  },
  {
   "cell_type": "code",
   "execution_count": 8,
   "id": "aba9819f",
   "metadata": {},
   "outputs": [],
   "source": [
    "# Convertimos los costos en un diccionario de PuLP\n",
    "costos = pulp.makeDict([Plantas, Centros], costos,0)\n",
    "# Creamos una lista de tuplas que contiene todas las posibles rutas de tranporte.\n",
    "rutas = [(c,b) for c in Plantas for b in Centros]"
   ]
  },
  {
   "cell_type": "code",
   "execution_count": 10,
   "id": "10b3f84c",
   "metadata": {},
   "outputs": [
    {
     "ename": "PulpError",
     "evalue": "overlapping constraint names: Suma_de_Productos_que_salen_de_Plantas_A1",
     "output_type": "error",
     "traceback": [
      "\u001b[1;31m---------------------------------------------------------------------------\u001b[0m",
      "\u001b[1;31mPulpError\u001b[0m                                 Traceback (most recent call last)",
      "\u001b[1;32m~\\AppData\\Local\\Temp/ipykernel_1964/2375279314.py\u001b[0m in \u001b[0;36m<module>\u001b[1;34m\u001b[0m\n\u001b[0;32m      8\u001b[0m \u001b[1;31m# Agregamos la restricción de máxima oferta de cada Planta al problema.\u001b[0m\u001b[1;33m\u001b[0m\u001b[1;33m\u001b[0m\u001b[0m\n\u001b[0;32m      9\u001b[0m \u001b[1;32mfor\u001b[0m \u001b[0mc\u001b[0m \u001b[1;32min\u001b[0m \u001b[0mPlantas\u001b[0m\u001b[1;33m:\u001b[0m\u001b[1;33m\u001b[0m\u001b[1;33m\u001b[0m\u001b[0m\n\u001b[1;32m---> 10\u001b[1;33m     \u001b[0mprob\u001b[0m \u001b[1;33m+=\u001b[0m \u001b[0msum\u001b[0m\u001b[1;33m(\u001b[0m\u001b[1;33m[\u001b[0m\u001b[0mx\u001b[0m\u001b[1;33m[\u001b[0m\u001b[0mc\u001b[0m\u001b[1;33m]\u001b[0m\u001b[1;33m[\u001b[0m\u001b[0mb\u001b[0m\u001b[1;33m]\u001b[0m \u001b[1;32mfor\u001b[0m \u001b[0mb\u001b[0m \u001b[1;32min\u001b[0m \u001b[0mCentros\u001b[0m\u001b[1;33m]\u001b[0m\u001b[1;33m)\u001b[0m \u001b[1;33m<=\u001b[0m \u001b[0moferta\u001b[0m\u001b[1;33m[\u001b[0m\u001b[0mc\u001b[0m\u001b[1;33m]\u001b[0m\u001b[1;33m,\u001b[0m\u001b[0;31m \u001b[0m\u001b[0;31m\\\u001b[0m\u001b[1;33m\u001b[0m\u001b[1;33m\u001b[0m\u001b[0m\n\u001b[0m\u001b[0;32m     11\u001b[0m     \u001b[1;34m\"Suma_de_Productos_que_salen_de_Plantas_%s\"\u001b[0m\u001b[1;33m%\u001b[0m\u001b[0mc\u001b[0m\u001b[1;33m\u001b[0m\u001b[1;33m\u001b[0m\u001b[0m\n\u001b[0;32m     12\u001b[0m \u001b[1;31m# Agregamos la restricción de demanda mínima de cada Centro\u001b[0m\u001b[1;33m\u001b[0m\u001b[1;33m\u001b[0m\u001b[0m\n",
      "\u001b[1;32m~\\anaconda3\\lib\\site-packages\\pulp\\pulp.py\u001b[0m in \u001b[0;36m__iadd__\u001b[1;34m(self, other)\u001b[0m\n\u001b[0;32m   1699\u001b[0m             \u001b[0mself\u001b[0m\u001b[1;33m.\u001b[0m\u001b[0maddConstraint\u001b[0m\u001b[1;33m(\u001b[0m\u001b[0mother\u001b[0m\u001b[1;33m.\u001b[0m\u001b[0mconstraint\u001b[0m\u001b[1;33m)\u001b[0m\u001b[1;33m\u001b[0m\u001b[1;33m\u001b[0m\u001b[0m\n\u001b[0;32m   1700\u001b[0m         \u001b[1;32melif\u001b[0m \u001b[0misinstance\u001b[0m\u001b[1;33m(\u001b[0m\u001b[0mother\u001b[0m\u001b[1;33m,\u001b[0m \u001b[0mLpConstraint\u001b[0m\u001b[1;33m)\u001b[0m\u001b[1;33m:\u001b[0m\u001b[1;33m\u001b[0m\u001b[1;33m\u001b[0m\u001b[0m\n\u001b[1;32m-> 1701\u001b[1;33m             \u001b[0mself\u001b[0m\u001b[1;33m.\u001b[0m\u001b[0maddConstraint\u001b[0m\u001b[1;33m(\u001b[0m\u001b[0mother\u001b[0m\u001b[1;33m,\u001b[0m \u001b[0mname\u001b[0m\u001b[1;33m)\u001b[0m\u001b[1;33m\u001b[0m\u001b[1;33m\u001b[0m\u001b[0m\n\u001b[0m\u001b[0;32m   1702\u001b[0m         \u001b[1;32melif\u001b[0m \u001b[0misinstance\u001b[0m\u001b[1;33m(\u001b[0m\u001b[0mother\u001b[0m\u001b[1;33m,\u001b[0m \u001b[0mLpAffineExpression\u001b[0m\u001b[1;33m)\u001b[0m\u001b[1;33m:\u001b[0m\u001b[1;33m\u001b[0m\u001b[1;33m\u001b[0m\u001b[0m\n\u001b[0;32m   1703\u001b[0m             \u001b[1;32mif\u001b[0m \u001b[0mself\u001b[0m\u001b[1;33m.\u001b[0m\u001b[0mobjective\u001b[0m \u001b[1;32mis\u001b[0m \u001b[1;32mnot\u001b[0m \u001b[1;32mNone\u001b[0m\u001b[1;33m:\u001b[0m\u001b[1;33m\u001b[0m\u001b[1;33m\u001b[0m\u001b[0m\n",
      "\u001b[1;32m~\\anaconda3\\lib\\site-packages\\pulp\\pulp.py\u001b[0m in \u001b[0;36maddConstraint\u001b[1;34m(self, constraint, name)\u001b[0m\n\u001b[0;32m   1659\u001b[0m         \u001b[1;32mif\u001b[0m \u001b[0mname\u001b[0m \u001b[1;32min\u001b[0m \u001b[0mself\u001b[0m\u001b[1;33m.\u001b[0m\u001b[0mconstraints\u001b[0m\u001b[1;33m:\u001b[0m\u001b[1;33m\u001b[0m\u001b[1;33m\u001b[0m\u001b[0m\n\u001b[0;32m   1660\u001b[0m             \u001b[1;32mif\u001b[0m \u001b[0mself\u001b[0m\u001b[1;33m.\u001b[0m\u001b[0mnoOverlap\u001b[0m\u001b[1;33m:\u001b[0m\u001b[1;33m\u001b[0m\u001b[1;33m\u001b[0m\u001b[0m\n\u001b[1;32m-> 1661\u001b[1;33m                 \u001b[1;32mraise\u001b[0m \u001b[0mconst\u001b[0m\u001b[1;33m.\u001b[0m\u001b[0mPulpError\u001b[0m\u001b[1;33m(\u001b[0m\u001b[1;34m\"overlapping constraint names: \"\u001b[0m \u001b[1;33m+\u001b[0m \u001b[0mname\u001b[0m\u001b[1;33m)\u001b[0m\u001b[1;33m\u001b[0m\u001b[1;33m\u001b[0m\u001b[0m\n\u001b[0m\u001b[0;32m   1662\u001b[0m             \u001b[1;32melse\u001b[0m\u001b[1;33m:\u001b[0m\u001b[1;33m\u001b[0m\u001b[1;33m\u001b[0m\u001b[0m\n\u001b[0;32m   1663\u001b[0m                 \u001b[0mprint\u001b[0m\u001b[1;33m(\u001b[0m\u001b[1;34m\"Warning: overlapping constraint names:\"\u001b[0m\u001b[1;33m,\u001b[0m \u001b[0mname\u001b[0m\u001b[1;33m)\u001b[0m\u001b[1;33m\u001b[0m\u001b[1;33m\u001b[0m\u001b[0m\n",
      "\u001b[1;31mPulpError\u001b[0m: overlapping constraint names: Suma_de_Productos_que_salen_de_Plantas_A1"
     ]
    }
   ],
   "source": [
    "# creamos diccionario x que contendrá la candidad enviada en las rutas\n",
    "x = pulp.LpVariable.dicts(\"ruta\", (Plantas, Centros),\n",
    "                          lowBound = 0,\n",
    "                          cat = pulp.LpInteger)\n",
    "# Agregamos la función objetivo al problema\n",
    "prob += sum([x[c][b]*costos[c][b] for (c,b) in rutas]), \\\n",
    "\"Suma_de_costos_de_transporte\"\n",
    "# Agregamos la restricción de máxima oferta de cada Planta al problema.\n",
    "for c in Plantas:\n",
    "    prob += sum([x[c][b] for b in Centros]) <= oferta[c], \\\n",
    "    \"Suma_de_Productos_que_salen_de_Plantas_%s\"%c\n",
    "# Agregamos la restricción de demanda mínima de cada Centro\n",
    "for b in Centros:\n",
    "    prob += sum([x[c][b] for c in Plantas]) >= demanda[b], \\\n",
    "    \"Sum_of_Products_into_Bar%s\"%b\n",
    "# Los datos del problema son exportado a archivo .lp\n",
    "prob.writeLP(\"problemaDeTransporte.lp\")\n",
    "# Resolviendo el problema.\n",
    "prob.solve()\n",
    "# Imprimimos el estado del problema.\n",
    "print(\"Status: {}\".format(pulp.LpStatus[prob.status]))\n",
    "# Imprimimos cada variable con su solución óptima.\n",
    "for v in prob.variables():\n",
    "    print(\"{0:} = {1:}\".format(v.name, v.varValue))\n",
    "# Imprimimos el valor óptimo de la función objetivo\n",
    "print(\"Coste total de transporte = {}\".format(prob.objective.value()))"
   ]
  },
  {
   "cell_type": "code",
   "execution_count": 18,
   "id": "197158da",
   "metadata": {},
   "outputs": [],
   "source": [
    "#Ejemplo 2: Problema transporte con Pyomo - Modelo de transporte con oferta menor que la demandad esequilibrio)"
   ]
  },
  {
   "cell_type": "code",
   "execution_count": 29,
   "id": "916f726c",
   "metadata": {},
   "outputs": [],
   "source": [
    "##Ejemplo del problema de transporte de artículos desequilibrado utilizando PuLP\n",
    "# Creamos la variable prob que contiene los datos del problema\n",
    "prob = pulp.LpProblem(\"Problema de transporte de artículos a mayoristas\", pulp.LpMinimize)"
   ]
  },
  {
   "cell_type": "code",
   "execution_count": 35,
   "id": "f9f7703b",
   "metadata": {},
   "outputs": [],
   "source": [
    "# Ejemplo del problema de transporte de las Plantas de produccion utilizando Pyomo\n",
    "# Creamos el modelo\n",
    "modelo = ConcreteModel()\n",
    "\n",
    "# Creamos los nodos de oferta y demanda\n",
    "modelo.i = Set(initialize=['Los Angeles','Detroit','Nueva Orleáns','Ficticia'],doc='Origenes')\n",
    "modelo.j = Set(initialize=['Denver','Miami'],doc='Destinos')\n",
    "\n",
    "# Definimos las capacidades de oferta y demanda\n",
    "modelo.a = Param(modelo.i, initialize={'Los Angeles':1000,'Detroit':1300,'Nueva Orleáns':1200,'Ficticia':200},\n",
    "                 doc='Centros de produccion')\n",
    "modelo.b = Param(modelo.j, initialize={'Denver':2300,'Miami':1400},\n",
    "                 doc='Centros de distribucion')\n",
    "\n",
    "# Costo de transporte\n",
    "costos = {\n",
    "    ('Los Angeles', 'Denver'): 80,\n",
    "    ('Los Angeles', 'Miami'): 215,\n",
    "    ('Detroit', 'Denver'): 100,\n",
    "    ('Detroit', 'Miami'): 108,\n",
    "    ('Nueva Orleáns', 'Denver'): 102,\n",
    "    ('Nueva Orleáns', 'Miami'): 68,\n",
    "    ('Ficticia','Denver'):0,\n",
    "    ('Ficticia','Miami'):0}\n",
    "modelo.d = Param(modelo.i, modelo.j, initialize=costos,  doc='Costo de transporte')\n",
    "\n",
    "# definimos el costo de tranporte\n",
    "def f_costo(modelo, i, j):\n",
    "    return modelo.d[i,j]\n",
    "modelo.c = Param(modelo.i, modelo.j, initialize=f_costo, doc='Costo de transporte')\n",
    "\n",
    "# definimos variable x con las cantidades de cajas enviadas\n",
    "modelo.x = Var(modelo.i, modelo.j, bounds=(0.0,None), doc='Cantidad de cajas')"
   ]
  },
  {
   "cell_type": "code",
   "execution_count": 36,
   "id": "731c96d8",
   "metadata": {},
   "outputs": [],
   "source": [
    "## Definimos las restricciones ##\n",
    "# Límite de oferta\n",
    "def f_oferta(modelo, i):\n",
    "    return sum(modelo.x[i,j] for j in modelo.j) <= modelo.a[i]\n",
    "modelo.oferta = Constraint(modelo.i, rule=f_oferta, \n",
    "                           doc='Límites oferta dde cada Fabrica')\n",
    "\n",
    "# Límite de demanda\n",
    "def f_demanda(modelo, j):\n",
    "    return sum(modelo.x[i,j] for i in modelo.i) >= modelo.b[j]  \n",
    "modelo.demanda = Constraint(modelo.j, rule=f_demanda, \n",
    "                            doc='Límites demanda de cada Concesionario')"
   ]
  },
  {
   "cell_type": "code",
   "execution_count": 37,
   "id": "b1385751",
   "metadata": {},
   "outputs": [
    {
     "name": "stdout",
     "output_type": "stream",
     "text": [
      "\n",
      "Solución óptima encontrada\n",
      "--------------------------------------------------------------------------------\n",
      "x : Cantidad de cajas\n",
      "    Size=8, Index=x_index\n",
      "    Key                         : Lower : Value  : Upper : Fixed : Stale : Domain\n",
      "          ('Detroit', 'Denver') :   0.0 : 1300.0 :  None : False : False :  Reals\n",
      "           ('Detroit', 'Miami') :   0.0 :    0.0 :  None : False : False :  Reals\n",
      "         ('Ficticia', 'Denver') :   0.0 :    0.0 :  None : False : False :  Reals\n",
      "          ('Ficticia', 'Miami') :   0.0 :  200.0 :  None : False : False :  Reals\n",
      "      ('Los Angeles', 'Denver') :   0.0 : 1000.0 :  None : False : False :  Reals\n",
      "       ('Los Angeles', 'Miami') :   0.0 :    0.0 :  None : False : False :  Reals\n",
      "    ('Nueva Orleáns', 'Denver') :   0.0 :    0.0 :  None : False : False :  Reals\n",
      "     ('Nueva Orleáns', 'Miami') :   0.0 : 1200.0 :  None : False : False :  Reals\n"
     ]
    }
   ],
   "source": [
    "## Definimos la función objetivo y resolvemos el problema ##\n",
    "# Función objetivo\n",
    "def f_objetivo(modelo):\n",
    "    return sum(modelo.c[i,j]*modelo.x[i,j] for i in modelo.i for j in modelo.j)\n",
    "modelo.objetivo = Objective(rule=f_objetivo, sense=minimize, \n",
    "                           doc='Función Objetivo')\n",
    "\n",
    "# resolvemos el problema e imprimimos resultados\n",
    "def pyomo_postprocess(options=None, instance=None, results=None):\n",
    "    modelo.x.display()\n",
    "\n",
    "# utilizamos solver glpk\n",
    "opt = SolverFactory(\"glpk\")\n",
    "resultados = opt.solve(modelo)\n",
    "\n",
    "# imprimimos resultados\n",
    "print(\"\\nSolución óptima encontrada\\n\" + '-'*80)\n",
    "pyomo_postprocess(None, None, resultados)"
   ]
  },
  {
   "cell_type": "code",
   "execution_count": 44,
   "id": "c5333bd1",
   "metadata": {},
   "outputs": [],
   "source": [
    "#Problema transporte con Pyomo - Modelo de transporte con oferta mayor que la demanda-desequilibrio"
   ]
  },
  {
   "cell_type": "code",
   "execution_count": 49,
   "id": "444e2dc8",
   "metadata": {},
   "outputs": [],
   "source": [
    "# Ejemplo del problema de transporte de las Plantas de produccion utilizando Pyomo\n",
    "# Creamos el modelo\n",
    "modelo = ConcreteModel()\n",
    "\n",
    "# Creamos los nodos de oferta y demanda\n",
    "modelo.i = Set(initialize=['Los Angeles','Detroit','Nueva Orleáns'],doc='Origenes')\n",
    "modelo.j = Set(initialize=['Denver','Miami'],doc='Destinos')\n",
    "\n",
    "# Definimos las capacidades de oferta y demanda\n",
    "modelo.a = Param(modelo.i, initialize={'Los Angeles':1000,'Detroit':1500,'Nueva Orleáns':1200},\n",
    "                 doc='Centros de produccion')\n",
    "modelo.b = Param(modelo.j, initialize={'Denver':1900,'Miami':1400},\n",
    "                 doc='Centros de distribucion')\n",
    "\n",
    "# Costo de transporte\n",
    "costos = {\n",
    "    ('Los Angeles', 'Denver'): 80,\n",
    "    ('Los Angeles', 'Miami'): 215,\n",
    "    ('Detroit', 'Denver'): 100,\n",
    "    ('Detroit', 'Miami'): 108,\n",
    "    ('Nueva Orleáns', 'Denver'): 102,\n",
    "    ('Nueva Orleáns', 'Miami'): 68}\n",
    "modelo.d = Param(modelo.i, modelo.j, initialize=costos,  doc='Costo de transporte')\n",
    "\n",
    "# definimos el costo de tranporte\n",
    "def f_costo(modelo, i, j):\n",
    "    return modelo.d[i,j]\n",
    "modelo.c = Param(modelo.i, modelo.j, initialize=f_costo, doc='Costo de transporte')\n",
    "\n",
    "# definimos variable x con las cantidades de cajas enviadas\n",
    "modelo.x = Var(modelo.i, modelo.j, bounds=(0.0,None), doc='Cantidad de cajas')"
   ]
  },
  {
   "cell_type": "code",
   "execution_count": 50,
   "id": "be83ec74",
   "metadata": {},
   "outputs": [],
   "source": [
    "## Definimos las restricciones ##\n",
    "# Límite de oferta\n",
    "def f_oferta(modelo, i):\n",
    "    return sum(modelo.x[i,j] for j in modelo.j) <= modelo.a[i]\n",
    "modelo.oferta = Constraint(modelo.i, rule=f_oferta, \n",
    "                           doc='Límites oferta de cada Cervecería')\n",
    "\n",
    "# Límite de demanda\n",
    "def f_demanda(modelo, j):\n",
    "    return sum(modelo.x[i,j] for i in modelo.i) >= modelo.b[j]  \n",
    "modelo.demanda = Constraint(modelo.j, rule=f_demanda, \n",
    "                            doc='Límites demanda de cada bar')"
   ]
  },
  {
   "cell_type": "code",
   "execution_count": 51,
   "id": "bfed0b3f",
   "metadata": {},
   "outputs": [
    {
     "name": "stdout",
     "output_type": "stream",
     "text": [
      "\n",
      "Solución óptima encontrada\n",
      "--------------------------------------------------------------------------------\n",
      "x : Cantidad de cajas\n",
      "    Size=6, Index=x_index\n",
      "    Key                         : Lower : Value  : Upper : Fixed : Stale : Domain\n",
      "          ('Detroit', 'Denver') :   0.0 :  900.0 :  None : False : False :  Reals\n",
      "           ('Detroit', 'Miami') :   0.0 :  200.0 :  None : False : False :  Reals\n",
      "      ('Los Angeles', 'Denver') :   0.0 : 1000.0 :  None : False : False :  Reals\n",
      "       ('Los Angeles', 'Miami') :   0.0 :    0.0 :  None : False : False :  Reals\n",
      "    ('Nueva Orleáns', 'Denver') :   0.0 :    0.0 :  None : False : False :  Reals\n",
      "     ('Nueva Orleáns', 'Miami') :   0.0 : 1200.0 :  None : False : False :  Reals\n"
     ]
    }
   ],
   "source": [
    "## Definimos la función objetivo y resolvemos el problema ##\n",
    "# Función objetivo\n",
    "def f_objetivo(modelo):\n",
    "    return sum(modelo.c[i,j]*modelo.x[i,j] for i in modelo.i for j in modelo.j)\n",
    "modelo.objetivo = Objective(rule=f_objetivo, sense=minimize, \n",
    "                           doc='Función Objetivo')\n",
    "\n",
    "# resolvemos el problema e imprimimos resultados\n",
    "def pyomo_postprocess(options=None, instance=None, results=None):\n",
    "    modelo.x.display()\n",
    "\n",
    "# utilizamos solver glpk\n",
    "opt = SolverFactory(\"glpk\")\n",
    "resultados = opt.solve(modelo)\n",
    "\n",
    "# imprimimos resultados\n",
    "print(\"\\nSolución óptima encontrada\\n\" + '-'*80)\n",
    "pyomo_postprocess(None, None, resultados)"
   ]
  },
  {
   "cell_type": "code",
   "execution_count": null,
   "id": "35f355af",
   "metadata": {},
   "outputs": [],
   "source": []
  }
 ],
 "metadata": {
  "kernelspec": {
   "display_name": "Python 3 (ipykernel)",
   "language": "python",
   "name": "python3"
  },
  "language_info": {
   "codemirror_mode": {
    "name": "ipython",
    "version": 3
   },
   "file_extension": ".py",
   "mimetype": "text/x-python",
   "name": "python",
   "nbconvert_exporter": "python",
   "pygments_lexer": "ipython3",
   "version": "3.9.7"
  }
 },
 "nbformat": 4,
 "nbformat_minor": 5
}
