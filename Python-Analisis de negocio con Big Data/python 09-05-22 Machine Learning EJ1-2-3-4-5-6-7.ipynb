{
 "cells": [
  {
   "cell_type": "code",
   "execution_count": null,
   "id": "4201c587",
   "metadata": {},
   "outputs": [],
   "source": [
    "#EJ1"
   ]
  },
  {
   "cell_type": "code",
   "execution_count": 6,
   "id": "e41412b9",
   "metadata": {},
   "outputs": [
    {
     "data": {
      "text/html": [
       "<div>\n",
       "<style scoped>\n",
       "    .dataframe tbody tr th:only-of-type {\n",
       "        vertical-align: middle;\n",
       "    }\n",
       "\n",
       "    .dataframe tbody tr th {\n",
       "        vertical-align: top;\n",
       "    }\n",
       "\n",
       "    .dataframe thead th {\n",
       "        text-align: right;\n",
       "    }\n",
       "</style>\n",
       "<table border=\"1\" class=\"dataframe\">\n",
       "  <thead>\n",
       "    <tr style=\"text-align: right;\">\n",
       "      <th></th>\n",
       "      <th>CRIM</th>\n",
       "      <th>ZN</th>\n",
       "      <th>INDUS</th>\n",
       "      <th>CHAS</th>\n",
       "      <th>NOX</th>\n",
       "      <th>RM</th>\n",
       "      <th>AGE</th>\n",
       "      <th>DIS</th>\n",
       "      <th>RAD</th>\n",
       "      <th>TAX</th>\n",
       "      <th>PTRATIO</th>\n",
       "      <th>B</th>\n",
       "      <th>LSTAT</th>\n",
       "      <th>TARGET</th>\n",
       "    </tr>\n",
       "  </thead>\n",
       "  <tbody>\n",
       "    <tr>\n",
       "      <th>0</th>\n",
       "      <td>0.00632</td>\n",
       "      <td>18.0</td>\n",
       "      <td>2.31</td>\n",
       "      <td>0.0</td>\n",
       "      <td>0.538</td>\n",
       "      <td>6.575</td>\n",
       "      <td>65.2</td>\n",
       "      <td>4.0900</td>\n",
       "      <td>1.0</td>\n",
       "      <td>296.0</td>\n",
       "      <td>15.3</td>\n",
       "      <td>396.90</td>\n",
       "      <td>4.98</td>\n",
       "      <td>24.0</td>\n",
       "    </tr>\n",
       "    <tr>\n",
       "      <th>1</th>\n",
       "      <td>0.02731</td>\n",
       "      <td>0.0</td>\n",
       "      <td>7.07</td>\n",
       "      <td>0.0</td>\n",
       "      <td>0.469</td>\n",
       "      <td>6.421</td>\n",
       "      <td>78.9</td>\n",
       "      <td>4.9671</td>\n",
       "      <td>2.0</td>\n",
       "      <td>242.0</td>\n",
       "      <td>17.8</td>\n",
       "      <td>396.90</td>\n",
       "      <td>9.14</td>\n",
       "      <td>21.6</td>\n",
       "    </tr>\n",
       "    <tr>\n",
       "      <th>2</th>\n",
       "      <td>0.02729</td>\n",
       "      <td>0.0</td>\n",
       "      <td>7.07</td>\n",
       "      <td>0.0</td>\n",
       "      <td>0.469</td>\n",
       "      <td>7.185</td>\n",
       "      <td>61.1</td>\n",
       "      <td>4.9671</td>\n",
       "      <td>2.0</td>\n",
       "      <td>242.0</td>\n",
       "      <td>17.8</td>\n",
       "      <td>392.83</td>\n",
       "      <td>4.03</td>\n",
       "      <td>34.7</td>\n",
       "    </tr>\n",
       "    <tr>\n",
       "      <th>3</th>\n",
       "      <td>0.03237</td>\n",
       "      <td>0.0</td>\n",
       "      <td>2.18</td>\n",
       "      <td>0.0</td>\n",
       "      <td>0.458</td>\n",
       "      <td>6.998</td>\n",
       "      <td>45.8</td>\n",
       "      <td>6.0622</td>\n",
       "      <td>3.0</td>\n",
       "      <td>222.0</td>\n",
       "      <td>18.7</td>\n",
       "      <td>394.63</td>\n",
       "      <td>2.94</td>\n",
       "      <td>33.4</td>\n",
       "    </tr>\n",
       "    <tr>\n",
       "      <th>4</th>\n",
       "      <td>0.06905</td>\n",
       "      <td>0.0</td>\n",
       "      <td>2.18</td>\n",
       "      <td>0.0</td>\n",
       "      <td>0.458</td>\n",
       "      <td>7.147</td>\n",
       "      <td>54.2</td>\n",
       "      <td>6.0622</td>\n",
       "      <td>3.0</td>\n",
       "      <td>222.0</td>\n",
       "      <td>18.7</td>\n",
       "      <td>396.90</td>\n",
       "      <td>5.33</td>\n",
       "      <td>36.2</td>\n",
       "    </tr>\n",
       "  </tbody>\n",
       "</table>\n",
       "</div>"
      ],
      "text/plain": [
       "      CRIM    ZN  INDUS  CHAS    NOX     RM   AGE     DIS  RAD    TAX  \\\n",
       "0  0.00632  18.0   2.31   0.0  0.538  6.575  65.2  4.0900  1.0  296.0   \n",
       "1  0.02731   0.0   7.07   0.0  0.469  6.421  78.9  4.9671  2.0  242.0   \n",
       "2  0.02729   0.0   7.07   0.0  0.469  7.185  61.1  4.9671  2.0  242.0   \n",
       "3  0.03237   0.0   2.18   0.0  0.458  6.998  45.8  6.0622  3.0  222.0   \n",
       "4  0.06905   0.0   2.18   0.0  0.458  7.147  54.2  6.0622  3.0  222.0   \n",
       "\n",
       "   PTRATIO       B  LSTAT  TARGET  \n",
       "0     15.3  396.90   4.98    24.0  \n",
       "1     17.8  396.90   9.14    21.6  \n",
       "2     17.8  392.83   4.03    34.7  \n",
       "3     18.7  394.63   2.94    33.4  \n",
       "4     18.7  396.90   5.33    36.2  "
      ]
     },
     "execution_count": 6,
     "metadata": {},
     "output_type": "execute_result"
    }
   ],
   "source": [
    "# importando pandas, numpy y matplotlib\n",
    "import pandas as pd\n",
    "import numpy as np \n",
    "import matplotlib.pyplot as plt\n",
    "# importando los datasets de sklearn\n",
    "from sklearn import datasets\n",
    "\n",
    "boston=datasets.load_boston()\n",
    "boston_df=pd.DataFrame(boston.data,columns=boston.feature_names)\n",
    "boston_df['TARGET']=boston.target\n",
    "boston_df.head() # estructura de nuestro dataset."
   ]
  },
  {
   "cell_type": "code",
   "execution_count": 7,
   "id": "073db317",
   "metadata": {},
   "outputs": [
    {
     "data": {
      "text/html": [
       "<div>\n",
       "<style scoped>\n",
       "    .dataframe tbody tr th:only-of-type {\n",
       "        vertical-align: middle;\n",
       "    }\n",
       "\n",
       "    .dataframe tbody tr th {\n",
       "        vertical-align: top;\n",
       "    }\n",
       "\n",
       "    .dataframe thead th {\n",
       "        text-align: right;\n",
       "    }\n",
       "</style>\n",
       "<table border=\"1\" class=\"dataframe\">\n",
       "  <thead>\n",
       "    <tr style=\"text-align: right;\">\n",
       "      <th></th>\n",
       "      <th>Pred</th>\n",
       "    </tr>\n",
       "  </thead>\n",
       "  <tbody>\n",
       "    <tr>\n",
       "      <th>0</th>\n",
       "      <td>30.003843</td>\n",
       "    </tr>\n",
       "    <tr>\n",
       "      <th>1</th>\n",
       "      <td>25.025562</td>\n",
       "    </tr>\n",
       "    <tr>\n",
       "      <th>2</th>\n",
       "      <td>30.567597</td>\n",
       "    </tr>\n",
       "    <tr>\n",
       "      <th>3</th>\n",
       "      <td>28.607036</td>\n",
       "    </tr>\n",
       "    <tr>\n",
       "      <th>4</th>\n",
       "      <td>27.943524</td>\n",
       "    </tr>\n",
       "  </tbody>\n",
       "</table>\n",
       "</div>"
      ],
      "text/plain": [
       "        Pred\n",
       "0  30.003843\n",
       "1  25.025562\n",
       "2  30.567597\n",
       "3  28.607036\n",
       "4  27.943524"
      ]
     },
     "execution_count": 7,
     "metadata": {},
     "output_type": "execute_result"
    }
   ],
   "source": [
    "# importando el modelo de regresión lineal\n",
    "from sklearn.linear_model import LinearRegression\n",
    "rl=LinearRegression() # Creando el modelo.\n",
    "rl.fit(boston.data,boston.target) # ajustando el modelo\n",
    "# haciendo las predicciones\n",
    "predicciones=rl.predict(boston.data)\n",
    "predicciones_df=pd.DataFrame(predicciones,columns=['Pred'])\n",
    "predicciones_df.head()# predicciones de las primeras 5 lineas"
   ]
  },
  {
   "cell_type": "code",
   "execution_count": 8,
   "id": "8f6d33ae",
   "metadata": {},
   "outputs": [
    {
     "data": {
      "text/plain": [
       "3.033146856209123e-15"
      ]
     },
     "execution_count": 8,
     "metadata": {},
     "output_type": "execute_result"
    }
   ],
   "source": [
    "# Calculando el desvio\n",
    "np.mean(boston.target-predicciones)"
   ]
  },
  {
   "cell_type": "code",
   "execution_count": null,
   "id": "34746523",
   "metadata": {},
   "outputs": [],
   "source": [
    "#EJ2"
   ]
  },
  {
   "cell_type": "code",
   "execution_count": 5,
   "id": "c8c2a5f2",
   "metadata": {},
   "outputs": [
    {
     "name": "stdout",
     "output_type": "stream",
     "text": [
      "sobre datos de entrenamiento: 0.88\n",
      "sobre datos de evaluación: 0.92\n"
     ]
    }
   ],
   "source": [
    "# Creando un dataset de ejemplo \n",
    "from sklearn.datasets import make_classification\n",
    "X, y=make_classification(n_samples=1000,n_features=4)\n",
    "#Importando el modelo\n",
    "from sklearn.linear_model import LogisticRegression\n",
    "rlog=LogisticRegression()# Creando el modelo\n",
    "\n",
    "# Dividiendo el dataset en entrenamiento y evaluacion\n",
    "X_entrenamiento=X[:-200]\n",
    "X_evaluacion=X[-200:]\n",
    "y_entrenamiento=y[:-200]\n",
    "y_evaluacion=y[-200:]\n",
    "\n",
    "rlog.fit(X_entrenamiento,y_entrenamiento) #ajustando el modelo\n",
    "# Realizando las predicciones\n",
    "y_predic_entrenamiento=rlog.predict(X_entrenamiento)\n",
    "y_predic_evaluacion=rlog.predict(X_evaluacion)\n",
    "\n",
    "# Verificando la exactitud del modelo\n",
    "entrenamiento= (y_predic_entrenamiento==y_entrenamiento).sum().astype(float)/y_entrenamiento.shape[0]\n",
    "print(\"sobre datos de entrenamiento: {0:.2f}\".format(entrenamiento))\n",
    "evaluacion=(y_predic_evaluacion==y_evaluacion).sum().astype(float)/y_evaluacion.shape[0]\n",
    "print(\"sobre datos de evaluación: {0:.2f}\".format(evaluacion))"
   ]
  },
  {
   "cell_type": "code",
   "execution_count": null,
   "id": "0ec0ce79",
   "metadata": {},
   "outputs": [],
   "source": [
    "#EJ3"
   ]
  },
  {
   "cell_type": "code",
   "execution_count": 12,
   "id": "f981fafe",
   "metadata": {},
   "outputs": [
    {
     "name": "stderr",
     "output_type": "stream",
     "text": [
      "'dot' is not recognized as an internal or external command,\n",
      "operable program or batch file.\n"
     ]
    }
   ],
   "source": [
    "# importando pandas, numpy y matplotlib\n",
    "import pandas as pd\n",
    "import numpy as np\n",
    "import matplotlib.pyplot as plt\n",
    "# importando los datasets de sklearn\n",
    "from sklearn import datasets\n",
    "# Creando un dataset de ejemplo\n",
    "X,y=datasets.make_classification(1000,20,n_informative=3)\n",
    "# Importando el arbol de decisión\n",
    "from sklearn.tree import DecisionTreeClassifier\n",
    "from sklearn import tree\n",
    "ad=DecisionTreeClassifier(criterion='entropy',max_depth=5)# Creando el modelo\n",
    "ad.fit(X,y)# Ajustando el modelo\n",
    "#generando archivo para graficar el arbol\n",
    "with open(\"mi_arbol.dot\",'w') as archivo_dot:\n",
    "    tree.export_graphviz(ad,out_file=archivo_dot)\n",
    "# utilizando el lenguaje dot para graficar el arbol.   \n",
    "!dot -Tjpeg mi_arbol.dot -o arbol_decision.jpeg"
   ]
  },
  {
   "cell_type": "code",
   "execution_count": null,
   "id": "c1a8190f",
   "metadata": {},
   "outputs": [],
   "source": [
    "#El algoritmo crea un documento word (con la red neuronal), el cual se encuentra en la misma carpeta que el codigo \n",
    "#(OneDrive-Documentos-PYTHON-Analisis de Negocio con Big data para la Industria)"
   ]
  },
  {
   "cell_type": "code",
   "execution_count": 13,
   "id": "b6111bbb",
   "metadata": {},
   "outputs": [
    {
     "data": {
      "text/plain": [
       "'C:\\\\Users\\\\eduma\\\\OneDrive\\\\Documentos\\\\Python-Analisis de negocio con Big Data'"
      ]
     },
     "execution_count": 13,
     "metadata": {},
     "output_type": "execute_result"
    }
   ],
   "source": [
    "import os\n",
    "os.getcwd()"
   ]
  },
  {
   "cell_type": "code",
   "execution_count": 14,
   "id": "2aba29fa",
   "metadata": {},
   "outputs": [],
   "source": [
    "#EJ4"
   ]
  },
  {
   "cell_type": "code",
   "execution_count": 15,
   "id": "a96a0fe6",
   "metadata": {},
   "outputs": [
    {
     "name": "stdout",
     "output_type": "stream",
     "text": [
      "precisión del modelo:  1.00\n"
     ]
    }
   ],
   "source": [
    "# importando pandas, numpy y matplotlib\n",
    "import pandas as pd \n",
    "import numpy as np \n",
    "import matplotlib.pyplot as plt\n",
    "# importando los datasets de sklearn\n",
    "from sklearn import datasets \n",
    "# Creando un dataset de ejemplo\n",
    "X,y=datasets.make_classification(1000) # Importando el random forest\n",
    "from sklearn.ensemble import RandomForestClassifier \n",
    "rf=RandomForestClassifier() # Creando el modelo\n",
    "rf.fit(X,y)# Ajustando el modelo\n",
    "# verificando la precisión\n",
    "print(\"precisión del modelo: {0: .2f}\".format((y==rf.predict(X)).mean()))"
   ]
  },
  {
   "cell_type": "code",
   "execution_count": 17,
   "id": "d9bc9ab4",
   "metadata": {},
   "outputs": [],
   "source": [
    "#EJ4"
   ]
  },
  {
   "cell_type": "code",
   "execution_count": 18,
   "id": "1efcf3b7",
   "metadata": {},
   "outputs": [
    {
     "name": "stderr",
     "output_type": "stream",
     "text": [
      "C:\\Users\\eduma\\anaconda3\\lib\\site-packages\\sklearn\\svm\\_base.py:985: ConvergenceWarning: Liblinear failed to converge, increase the number of iterations.\n",
      "  warnings.warn(\"Liblinear failed to converge, increase \"\n"
     ]
    },
    {
     "data": {
      "image/png": "[encoded data removed]",
      "text/plain": [
       "<Figure size 432x288 with 4 Axes>"
      ]
     },
     "metadata": {},
     "output_type": "display_data"
    }
   ],
   "source": [
    "import pandas as pd\n",
    "import numpy as np\n",
    "import matplotlib.pyplot as plt\n",
    "# importando los datasets de sklearn\n",
    "from sklearn import datasets\n",
    "# importanto SVM\n",
    "from sklearn import svm\n",
    "# importando el dataset iris\n",
    "iris=datasets.load_iris()\n",
    "X=iris.data[:,:2]# solo tomamos las primeras 2 características\n",
    "y=iris.target\n",
    "h=.02# tamaño de la malla del grafico\n",
    "# Creando el SVM con sus diferentes métodos\n",
    "C=1.0# parametro de regulacion SVM \n",
    "svc=svm.SVC(kernel='linear',C=C).fit(X,y)\n",
    "rbf_svc=svm.SVC(kernel='rbf',gamma=0.7,C=C).fit(X,y)\n",
    "poly_svc=svm.SVC(kernel='poly',degree=3,C=C).fit(X,y)\n",
    "lin_svc=svm.LinearSVC(C=C).fit(X,y)\n",
    "\n",
    "# crear el area para graficar\n",
    "x_min,x_max=X[:,0].min()-1,X[:,0].max()+1\n",
    "y_min,y_max=X[:,1].min()-1,X[:,1].max()+1\n",
    "xx,yy=np.meshgrid(np.arange(x_min,x_max,h),np.arange(y_min,y_max,h))\n",
    "\n",
    "# titulos de los graficos\n",
    "titles=['SVC con el motor lineal',\n",
    "        'LinearSVC',\n",
    "        'SVC con el motor RBF',\n",
    "        'SVC con el motor polinomial']\n",
    "\n",
    "for i,clf in enumerate((svc,lin_svc,rbf_svc,poly_svc)):\n",
    "    # Realizando el gráfico, se le asigna un color a cada punto\n",
    "    plt.subplot(2,2,i+1)\n",
    "    plt.subplots_adjust(wspace=0.4,hspace=0.4)\n",
    "    \n",
    "    Z=clf.predict(np.c_[xx.ravel(),yy.ravel()])\n",
    "    \n",
    "    Z=Z.reshape(xx.shape)\n",
    "    plt.contourf(xx,yy,Z,cmap=plt.cm.Paired,alpha=0.8)\n",
    "    \n",
    "    # Graficando tambien los puntos de datos\n",
    "    plt.scatter(X[:,0],X[:,1],c=y,cmap=plt.cm.Paired)\n",
    "    plt.xlabel('largo del petalo')\n",
    "    plt.ylabel('ancho del petalo')\n",
    "    plt.xlim(xx.min(),xx.max())\n",
    "    plt.ylim(yy.min(),yy.max())\n",
    "    plt.xticks(())\n",
    "    plt.yticks(())\n",
    "    plt.title(titles[i])\n",
    "    \n",
    "plt.show()    "
   ]
  },
  {
   "cell_type": "code",
   "execution_count": 19,
   "id": "c6aebf16",
   "metadata": {},
   "outputs": [],
   "source": [
    "#EJ5"
   ]
  },
  {
   "cell_type": "code",
   "execution_count": 20,
   "id": "7d8c06d4",
   "metadata": {},
   "outputs": [
    {
     "name": "stdout",
     "output_type": "stream",
     "text": [
      "El error medio del modelo es: 0.02\n"
     ]
    }
   ],
   "source": [
    "# importando pandas, numpy y matplotlib\n",
    "import pandas as pd\n",
    "import numpy as np\n",
    "import matplotlib.pyplot as plt\n",
    "# importando los datasets de sklearn\n",
    "from sklearn import datasets\n",
    "# Creando el dataset iris\n",
    "iris=datasets.load_iris()\n",
    "X=iris.data\n",
    "y=iris.target\n",
    "# importando KNN \n",
    "from sklearn.neighbors import KNeighborsRegressor\n",
    "knnr=KNeighborsRegressor(n_neighbors=10)# Creando el modelo con 10 vecinos\n",
    "knnr.fit(X,y)# Ajustando el modelo\n",
    "# Verificando el error medio del modelo\n",
    "print(\"El error medio del modelo es: {:.2f}\".format(np.power(y-knnr.predict(X),2).mean()))"
   ]
  },
  {
   "cell_type": "code",
   "execution_count": 21,
   "id": "f942f289",
   "metadata": {},
   "outputs": [],
   "source": [
    "#EJ7"
   ]
  },
  {
   "cell_type": "code",
   "execution_count": 22,
   "id": "627ee06a",
   "metadata": {},
   "outputs": [
    {
     "name": "stdout",
     "output_type": "stream",
     "text": [
      "El error medio del modelo es: 0.02\n"
     ]
    }
   ],
   "source": [
    "# importando pandas, numpy y matplotlib\n",
    "import pandas as pd\n",
    "import numpy as np\n",
    "import matplotlib.pyplot as plt\n",
    "# importando los datasets de sklearn\n",
    "from sklearn import datasets\n",
    "# Creando el dataset iris\n",
    "iris=datasets.load_iris()\n",
    "X=iris.data\n",
    "y=iris.target\n",
    "# importando KNN \n",
    "from sklearn.neighbors import KNeighborsRegressor\n",
    "knnr=KNeighborsRegressor(n_neighbors=10)# Creando el modelo con 10 vecinos\n",
    "knnr.fit(X,y)# Ajustando el modelo\n",
    "# Verificando el error medio del modelo\n",
    "print(\"El error medio del modelo es: {:.2f}\".format(np.power(y-knnr.predict(X),2).mean()))"
   ]
  },
  {
   "cell_type": "code",
   "execution_count": null,
   "id": "145ed1b1",
   "metadata": {},
   "outputs": [],
   "source": []
  }
 ],
 "metadata": {
  "kernelspec": {
   "display_name": "Python 3",
   "language": "python",
   "name": "python3"
  },
  "language_info": {
   "codemirror_mode": {
    "name": "ipython",
    "version": 3
   },
   "file_extension": ".py",
   "mimetype": "text/x-python",
   "name": "python",
   "nbconvert_exporter": "python",
   "pygments_lexer": "ipython3",
   "version": "3.10.1 (tags/v3.10.1:2cd268a, Dec  6 2021, 19:10:37) [MSC v.1929 64 bit (AMD64)]"
  },
  "vscode": {
   "interpreter": {
    "hash": "63a460955ca75451db6be0ee7085715b3a72c824046f93a317c20e3728312e5b"
   }
  }
 },
 "nbformat": 4,
 "nbformat_minor": 5
}
